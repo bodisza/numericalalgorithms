{
 "cells": [
  {
   "cell_type": "markdown",
   "metadata": {},
   "source": [
    "# Gradient Descent Methods"
   ]
  },
  {
   "cell_type": "markdown",
   "metadata": {},
   "source": [
    "### The Method of Steepest Descent"
   ]
  },
  {
   "cell_type": "code",
   "execution_count": 1,
   "metadata": {},
   "outputs": [],
   "source": [
    "import numpy as np\n",
    "import scipy.optimize as opt\n",
    "import scipy.linalg as la\n",
    "\n",
    "def exact_gradient(f, df, x0, *, tol=10**-5, maxiter=100):\n",
    "    \n",
    "    i = 0\n",
    "    xk = x0\n",
    "    conv = False\n",
    "    \n",
    "    while i < maxiter:\n",
    "        \n",
    "        Df = np.array(df(xk))\n",
    "        \n",
    "        res = opt.minimize_scalar(lambda a: f(xk - a*Df.T))\n",
    "        α = res.x\n",
    "        \n",
    "        xk = xk - α * Df.T\n",
    "        \n",
    "        if la.norm(df(xk), np.inf) < tol:\n",
    "            conv = True\n",
    "            break\n",
    "        \n",
    "        i += 1\n",
    "            \n",
    "    return xk, conv, i"
   ]
  },
  {
   "cell_type": "code",
   "execution_count": 2,
   "metadata": {},
   "outputs": [
    {
     "data": {
      "text/plain": [
       "(array([9.24407773e-10, 9.24407773e-10, 9.24407773e-10]), True, 0)"
      ]
     },
     "execution_count": 2,
     "metadata": {},
     "output_type": "execute_result"
    }
   ],
   "source": [
    "# Test function 1\n",
    "f = lambda x: x[0]**4 + x[1]**4 + x[2]**4\n",
    "df = lambda x: (4*x[0]**3, 4*x[1]**3, 4*x[2]**3)\n",
    "x0 = np.array([1, 1, 1])\n",
    "exact_gradient(f, df, x0)"
   ]
  },
  {
   "cell_type": "code",
   "execution_count": 3,
   "metadata": {},
   "outputs": [
    {
     "data": {
      "text/plain": [
       "(array([0.99999589, 0.99999177, 0.99998349]), True, 16569)"
      ]
     },
     "execution_count": 3,
     "metadata": {},
     "output_type": "execute_result"
    }
   ],
   "source": [
    "# Test function 2\n",
    "f = opt.rosen # The Rosenbrock function.\n",
    "df = opt.rosen_der # The first derivative.\n",
    "x0 = np.array([-2, 2, 2])\n",
    "exact_gradient(f, df, x0, maxiter = 30000)"
   ]
  },
  {
   "cell_type": "markdown",
   "metadata": {},
   "source": [
    "### The Conjugate Gradient Method"
   ]
  },
  {
   "cell_type": "code",
   "execution_count": 4,
   "metadata": {},
   "outputs": [],
   "source": [
    "def conjugate_gradient(x0, Q, b, *, tol = 10**-5, maxiter=None):\n",
    "    \n",
    "    i = 0\n",
    "    conv = False\n",
    "    maxiter = len(Q)\n",
    "    \n",
    "    r0 = np.matmul(Q, x0) - b\n",
    "    d0 = -r0\n",
    "    \n",
    "    xk = x0\n",
    "    rk = r0\n",
    "    dk = d0\n",
    "    \n",
    "    while i < maxiter:\n",
    "        \n",
    "        αk = np.matmul(rk.T, rk) / np.matmul(np.matmul(dk.T, Q), dk)\n",
    "        xk = xk + αk * dk\n",
    "        rkk = rk + αk * np.matmul(Q, dk)\n",
    "        βk = np.matmul(rkk.T, rkk) / np.matmul(rk.T, rk)\n",
    "        dk = -rkk + βk * dk\n",
    "        rk = rkk\n",
    "        \n",
    "        if la.norm(rk) < tol:\n",
    "            conv = True\n",
    "            break\n",
    "            \n",
    "        i += 1\n",
    "            \n",
    "    return xk, conv, i"
   ]
  },
  {
   "cell_type": "code",
   "execution_count": 5,
   "metadata": {},
   "outputs": [
    {
     "data": {
      "text/plain": [
       "(array([0.5, 2. ]), True, 1)"
      ]
     },
     "execution_count": 5,
     "metadata": {},
     "output_type": "execute_result"
    }
   ],
   "source": [
    "# Test function 1\n",
    "Q = np.array([[2, 0], [0, 4]])\n",
    "b = np.array([1, 8])\n",
    "x0 = np.array([-100, 100])\n",
    "conjugate_gradient(x0, Q, b)"
   ]
  },
  {
   "cell_type": "code",
   "execution_count": 6,
   "metadata": {},
   "outputs": [
    {
     "data": {
      "text/plain": [
       "(array([ -53.44866154,  -52.78740066,   -9.84786578,   31.04199685,\n",
       "        -107.27072197,    5.72208035,   39.03059114,    3.98314124,\n",
       "          67.3090515 ,   96.27578702]), True, 9)"
      ]
     },
     "execution_count": 6,
     "metadata": {},
     "output_type": "execute_result"
    }
   ],
   "source": [
    "# Test function 2\n",
    "n = 10\n",
    "A = np.random.random((n,n))\n",
    "Q = A.T @ A\n",
    "b, x0 = np.random.random((2,n))\n",
    "conjugate_gradient(x0, Q, b, tol=10**-1) ## kinda close"
   ]
  },
  {
   "cell_type": "code",
   "execution_count": 7,
   "metadata": {},
   "outputs": [
    {
     "data": {
      "text/plain": [
       "array([ -53.42199178,  -52.76372292,   -9.8518815 ,   31.10953785,\n",
       "       -107.30787669,    5.66566291,   38.89793488,    4.07329944,\n",
       "         67.19998504,   96.41029833])"
      ]
     },
     "execution_count": 7,
     "metadata": {},
     "output_type": "execute_result"
    }
   ],
   "source": [
    "la.solve(Q, b)"
   ]
  },
  {
   "cell_type": "markdown",
   "metadata": {},
   "source": [
    "### Non-linear Conjugate Gradient"
   ]
  },
  {
   "cell_type": "code",
   "execution_count": 8,
   "metadata": {},
   "outputs": [],
   "source": [
    "def non_linear_conjugate_gradient(f, df, x0, *, tol = 10**-5, maxiter=100):\n",
    "    \n",
    "    i = 0\n",
    "    conv = False\n",
    "    \n",
    "    r0 = -np.array(df(x0)).T\n",
    "    d0 = -r0\n",
    "    res = opt.minimize_scalar(lambda a: f(x0 - a*d0))\n",
    "    α0 = res.x\n",
    "    \n",
    "    xk = x0 + α0*d0\n",
    "    rk = r0\n",
    "    dk = d0\n",
    "    \n",
    "    while i < maxiter:\n",
    "        \n",
    "        rkk = -np.array(df(xk)).T\n",
    "        βk = np.matmul(rkk.T, rkk) / np.matmul(rk.T, rk)\n",
    "        dk = rkk + βk * dk\n",
    "        res = opt.minimize_scalar(lambda a: f(xk - a*dk))\n",
    "        αk = res.x\n",
    "        xk = xk + αk * dk\n",
    "        rk = rkk\n",
    "        \n",
    "        if la.norm(rk) < tol:\n",
    "            conv = True\n",
    "            break\n",
    "            \n",
    "        i += 1\n",
    "            \n",
    "    return xk, conv, i"
   ]
  },
  {
   "cell_type": "code",
   "execution_count": 9,
   "metadata": {},
   "outputs": [
    {
     "data": {
      "text/plain": [
       "(array([105.75210177,   5.21106108]), False, 10000)"
      ]
     },
     "execution_count": 9,
     "metadata": {},
     "output_type": "execute_result"
    }
   ],
   "source": [
    "non_linear_conjugate_gradient(opt.rosen, opt.rosen_der, np.array([10, 10]), maxiter=10000)"
   ]
  },
  {
   "cell_type": "code",
   "execution_count": 10,
   "metadata": {},
   "outputs": [
    {
     "name": "stdout",
     "output_type": "stream",
     "text": [
      "Optimization terminated successfully.\n",
      "         Current function value: 0.000000\n",
      "         Iterations: 44\n",
      "         Function evaluations: 122\n",
      "         Gradient evaluations: 119\n"
     ]
    },
    {
     "data": {
      "text/plain": [
       "array([0.99999606, 0.9999921 ])"
      ]
     },
     "execution_count": 10,
     "metadata": {},
     "output_type": "execute_result"
    }
   ],
   "source": [
    "opt.fmin_cg(opt.rosen, np.array([10, 10]), fprime=opt.rosen_der)"
   ]
  },
  {
   "cell_type": "markdown",
   "metadata": {},
   "source": [
    "### Regression Problems"
   ]
  },
  {
   "cell_type": "code",
   "execution_count": 11,
   "metadata": {},
   "outputs": [],
   "source": [
    "data = np.loadtxt(\"linregression.txt\")"
   ]
  },
  {
   "cell_type": "code",
   "execution_count": 12,
   "metadata": {},
   "outputs": [],
   "source": [
    "y = data[:, 0]"
   ]
  },
  {
   "cell_type": "code",
   "execution_count": 13,
   "metadata": {},
   "outputs": [
    {
     "data": {
      "text/plain": [
       "array([60323., 61122., 60171., 61187., 63221., 63639., 64989., 63761.,\n",
       "       66019., 67857., 68169., 66513., 68655., 69564., 69331., 70551.])"
      ]
     },
     "execution_count": 13,
     "metadata": {},
     "output_type": "execute_result"
    }
   ],
   "source": [
    "y"
   ]
  },
  {
   "cell_type": "code",
   "execution_count": 14,
   "metadata": {},
   "outputs": [],
   "source": [
    "X = data[:, 1:] # But we have to add the constant\n",
    "X = np.hstack((np.ones((X.shape[0], 1), dtype=X.dtype), X))"
   ]
  },
  {
   "cell_type": "code",
   "execution_count": 15,
   "metadata": {},
   "outputs": [
    {
     "data": {
      "text/plain": [
       "(16, 7)"
      ]
     },
     "execution_count": 15,
     "metadata": {},
     "output_type": "execute_result"
    }
   ],
   "source": [
    "X.shape"
   ]
  },
  {
   "cell_type": "code",
   "execution_count": 16,
   "metadata": {},
   "outputs": [
    {
     "data": {
      "text/plain": [
       "7"
      ]
     },
     "execution_count": 16,
     "metadata": {},
     "output_type": "execute_result"
    }
   ],
   "source": [
    "x0 = np.ones(X.shape[1], dtype=X.dtype)\n",
    "len(x0)"
   ]
  },
  {
   "cell_type": "code",
   "execution_count": 17,
   "metadata": {},
   "outputs": [
    {
     "data": {
      "text/plain": [
       "(array([ 1.02098785,  4.88216104,  0.05952918, -0.55752397, -0.60822878,\n",
       "        -0.32079157, 42.3517824 ]), False, 7)"
      ]
     },
     "execution_count": 17,
     "metadata": {},
     "output_type": "execute_result"
    }
   ],
   "source": [
    "conjugate_gradient(x0, np.matmul(X.T, X), np.matmul(X.T, y)) ## ??"
   ]
  },
  {
   "cell_type": "code",
   "execution_count": 18,
   "metadata": {},
   "outputs": [],
   "source": [
    "β = np.matmul(la.inv(np.matmul(X.T, X)), np.matmul(X.T, y))"
   ]
  },
  {
   "cell_type": "code",
   "execution_count": 19,
   "metadata": {},
   "outputs": [
    {
     "data": {
      "text/plain": [
       "array([-3.48225865e+06,  1.50618727e+01, -3.58191798e-02, -2.02022981e+00,\n",
       "       -1.03322687e+00, -5.11041036e-02,  1.82915147e+03])"
      ]
     },
     "execution_count": 19,
     "metadata": {},
     "output_type": "execute_result"
    }
   ],
   "source": [
    "β"
   ]
  },
  {
   "cell_type": "markdown",
   "metadata": {},
   "source": [
    "#### Logistic Regression"
   ]
  },
  {
   "cell_type": "code",
   "execution_count": 20,
   "metadata": {},
   "outputs": [],
   "source": [
    "class Logistic_Regression:\n",
    "    \n",
    "    def fit(self, x, y, β0):\n",
    "        \n",
    "        f = lambda β0: np.sum(np.log(1+np.exp(-(β0[0]+β0[1]*x))+(1-y)*(β0[0]+β0[1]*x)))\n",
    "        #df = lambda β0: np.array((np.sum(-np.exp(-(β0[0]+β0[1]*x))/(1+np.exp(-(β0[0]+β0[1]*x))) + (1-y)),\n",
    "                                       #np.sum(-x*np.exp(-(β0[0]+β0[1]*x))/(1+np.exp(-(β0[0]+β0[1]*x))) + (1-y)*x)))\n",
    "        res = opt.fmin_cg(f, β0)\n",
    "        #res = opt.fmin_cg(f, β0, fprime=df)\n",
    "        \n",
    "        self.b0 = res[0]\n",
    "        self.b1 = res[1]\n",
    "        \n",
    "        return res\n",
    "    \n",
    "    def predict(self, x):\n",
    "        \n",
    "        return 1/(1+np.exp(-(self.b0+self.b1*x)))"
   ]
  },
  {
   "cell_type": "markdown",
   "metadata": {},
   "source": [
    "#### Using the logistic regression model to estimate O-ring damage resect to temperature"
   ]
  },
  {
   "cell_type": "code",
   "execution_count": 21,
   "metadata": {},
   "outputs": [],
   "source": [
    "data = np.load('challenger.npy')"
   ]
  },
  {
   "cell_type": "code",
   "execution_count": 22,
   "metadata": {},
   "outputs": [
    {
     "data": {
      "text/plain": [
       "array([[53.,  1.],\n",
       "       [57.,  1.],\n",
       "       [58.,  1.],\n",
       "       [63.,  1.],\n",
       "       [66.,  0.],\n",
       "       [67.,  0.],\n",
       "       [67.,  0.],\n",
       "       [67.,  0.],\n",
       "       [68.,  0.],\n",
       "       [69.,  0.],\n",
       "       [70.,  0.],\n",
       "       [70.,  0.],\n",
       "       [70.,  1.],\n",
       "       [70.,  1.],\n",
       "       [72.,  0.],\n",
       "       [73.,  0.],\n",
       "       [75.,  0.],\n",
       "       [75.,  1.],\n",
       "       [76.,  0.],\n",
       "       [76.,  0.],\n",
       "       [78.,  0.],\n",
       "       [79.,  0.],\n",
       "       [81.,  0.]])"
      ]
     },
     "execution_count": 22,
     "metadata": {},
     "output_type": "execute_result"
    }
   ],
   "source": [
    "data"
   ]
  },
  {
   "cell_type": "code",
   "execution_count": 23,
   "metadata": {},
   "outputs": [],
   "source": [
    "x = data[:, 0]\n",
    "y = data[:, 1]"
   ]
  },
  {
   "cell_type": "code",
   "execution_count": 24,
   "metadata": {},
   "outputs": [],
   "source": [
    "log_reg = Logistic_Regression()"
   ]
  },
  {
   "cell_type": "code",
   "execution_count": 25,
   "metadata": {},
   "outputs": [
    {
     "name": "stdout",
     "output_type": "stream",
     "text": [
      "Warning: Desired error not necessarily achieved due to precision loss.\n",
      "         Current function value: 14.309601\n",
      "         Iterations: 15\n",
      "         Function evaluations: 448\n",
      "         Gradient evaluations: 109\n"
     ]
    },
    {
     "data": {
      "text/plain": [
       "array([ 6.22686102, -0.08106009])"
      ]
     },
     "execution_count": 25,
     "metadata": {},
     "output_type": "execute_result"
    }
   ],
   "source": [
    "b = np.array([20, -1])\n",
    "log_reg.fit(x, y, b)"
   ]
  },
  {
   "cell_type": "code",
   "execution_count": 26,
   "metadata": {},
   "outputs": [],
   "source": [
    "pred = log_reg.predict(x)"
   ]
  },
  {
   "cell_type": "code",
   "execution_count": 27,
   "metadata": {},
   "outputs": [],
   "source": [
    "import matplotlib.pyplot as plt"
   ]
  },
  {
   "cell_type": "code",
   "execution_count": 28,
   "metadata": {},
   "outputs": [
    {
     "data": {
      "image/png": "[encoded data removed]",
      "text/plain": [
       "<Figure size 432x288 with 1 Axes>"
      ]
     },
     "metadata": {
      "needs_background": "light"
     },
     "output_type": "display_data"
    }
   ],
   "source": [
    "plt.scatter(x, y)\n",
    "plt.plot(x, pred)\n",
    "plt.show()"
   ]
  },
  {
   "cell_type": "code",
   "execution_count": 29,
   "metadata": {},
   "outputs": [
    {
     "data": {
      "image/png": "[encoded data removed]",
      "text/plain": [
       "<Figure size 432x288 with 1 Axes>"
      ]
     },
     "metadata": {
      "needs_background": "light"
     },
     "output_type": "display_data"
    }
   ],
   "source": [
    "x_ = np.linspace(30, 100, 1000)\n",
    "pred_ = log_reg.predict(x_)\n",
    "plt.plot(x_, pred_)\n",
    "plt.show()"
   ]
  }
 ],
 "metadata": {
  "kernelspec": {
   "display_name": "Python 3",
   "language": "python",
   "name": "python3"
  },
  "language_info": {
   "codemirror_mode": {
    "name": "ipython",
    "version": 3
   },
   "file_extension": ".py",
   "mimetype": "text/x-python",
   "name": "python",
   "nbconvert_exporter": "python",
   "pygments_lexer": "ipython3",
   "version": "3.7.4"
  }
 },
 "nbformat": 4,
 "nbformat_minor": 2
}
