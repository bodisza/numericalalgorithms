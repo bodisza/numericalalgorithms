{
 "cells": [
  {
   "cell_type": "markdown",
   "metadata": {},
   "source": [
    "# Newon's Method"
   ]
  },
  {
   "cell_type": "markdown",
   "metadata": {},
   "source": [
    "### Newton's Method"
   ]
  },
  {
   "cell_type": "code",
   "execution_count": 85,
   "metadata": {},
   "outputs": [],
   "source": [
    "from scipy import linalg as la\n",
    "import numpy as np\n",
    "\n",
    "def newton_method(df, d2f, x0, *, tol=10**-6, maxiter=20):\n",
    "    \n",
    "    conv = False\n",
    "    i = 0\n",
    "    xk = x0\n",
    "    \n",
    "    while i < maxiter:\n",
    "        \n",
    "        Df = df(xk)\n",
    "        D2f = d2f(xk)\n",
    "        zk = la.solve(D2f, np.transpose(Df))\n",
    "        \n",
    "        xk = x0 - zk\n",
    "        \n",
    "        if la.norm(df(xk), np.inf) < tol:\n",
    "            conv = True\n",
    "            break\n",
    "            \n",
    "        x0 = xk\n",
    "        i += 1\n",
    "        \n",
    "        \n",
    "    return xk, conv, i"
   ]
  },
  {
   "cell_type": "code",
   "execution_count": 86,
   "metadata": {},
   "outputs": [
    {
     "data": {
      "text/plain": [
       "(array([1., 1.]), True, 4)"
      ]
     },
     "execution_count": 86,
     "metadata": {},
     "output_type": "execute_result"
    }
   ],
   "source": [
    "from scipy import optimize as opt\n",
    "f = opt.rosen # The Rosenbrock function.\n",
    "df = opt.rosen_der # The first derivative.\n",
    "d2f = opt.rosen_hess # The second derivative (Hessian).\n",
    "x0 = np.array([-2, 2])\n",
    "newton_method(df, d2f, x0)"
   ]
  },
  {
   "cell_type": "code",
   "execution_count": 87,
   "metadata": {},
   "outputs": [
    {
     "name": "stdout",
     "output_type": "stream",
     "text": [
      "Optimization terminated successfully.\n",
      "         Current function value: 0.000000\n",
      "         Iterations: 35\n",
      "         Function evaluations: 42\n",
      "         Gradient evaluations: 42\n"
     ]
    },
    {
     "data": {
      "text/plain": [
       "array([1.00000021, 1.00000045])"
      ]
     },
     "execution_count": 87,
     "metadata": {},
     "output_type": "execute_result"
    }
   ],
   "source": [
    "#Optimizing with the built in BFGS function\n",
    "opt.fmin_bfgs(f=f, x0=[-2,2], fprime=df, maxiter=50)"
   ]
  },
  {
   "cell_type": "markdown",
   "metadata": {},
   "source": [
    "### BFGS"
   ]
  },
  {
   "cell_type": "code",
   "execution_count": 88,
   "metadata": {},
   "outputs": [],
   "source": [
    "def BFGS(df, x0, *, tol=10**-5, maxiter=80):\n",
    "    \n",
    "    from numpy.linalg import inv\n",
    "    \n",
    "    conv = False\n",
    "    i = 0\n",
    "    A0 = np.eye(len(df(x0)))\n",
    "    \n",
    "    # Init vals\n",
    "    xk = x0\n",
    "    Ak = A0\n",
    "    \n",
    "    while i < maxiter:\n",
    "        \n",
    "        Df0 = df(xk)\n",
    "        xk = x0 - inv(Ak) @ np.transpose(Df0)\n",
    "        Df1 = df(xk)\n",
    "        sk = xk - x0\n",
    "        yk = np.transpose(Df1) - np.transpose(Df0)\n",
    "        syk = sk.T @ yk\n",
    "        \n",
    "        Ak = inv(inv(Ak) + ((syk + yk.T @ inv(Ak) @ yk) * np.outer(sk, sk.T))/(syk)**2 \\\n",
    "            - (inv(Ak) @ np.outer(yk, sk.T) + np.outer(sk, yk.T) @ inv(Ak))/syk)\n",
    "        \n",
    "        \n",
    "        if la.norm(Df1, np.inf) < tol:\n",
    "            conv = True\n",
    "            break\n",
    "        \n",
    "        if syk**2 == 0:\n",
    "            break\n",
    "            \n",
    "        x0 = xk\n",
    "        Df0 = Df1\n",
    "        i += 1\n",
    "        \n",
    "        \n",
    "    return xk, conv, i"
   ]
  },
  {
   "cell_type": "code",
   "execution_count": 89,
   "metadata": {},
   "outputs": [
    {
     "data": {
      "text/plain": [
       "(array([1.00000004, 1.00000008]), True, 33)"
      ]
     },
     "execution_count": 89,
     "metadata": {},
     "output_type": "execute_result"
    }
   ],
   "source": [
    "df = opt.rosen_der # The first derivative.\n",
    "x0 = np.array([1.5, 1.5])\n",
    "\n",
    "BFGS(df, x0)"
   ]
  },
  {
   "cell_type": "markdown",
   "metadata": {},
   "source": [
    "### The Gauss-Newton Method"
   ]
  },
  {
   "cell_type": "code",
   "execution_count": 90,
   "metadata": {},
   "outputs": [],
   "source": [
    "def gauss_newton(f, df, r, dr, x0, *, tol=10**-5, maxiter=10):\n",
    "    \n",
    "    conv = False\n",
    "    i = 0\n",
    "    xk = x0\n",
    "    \n",
    "    while i < maxiter:\n",
    "        \n",
    "        Df = df(xk)\n",
    "        J = dr(xk)\n",
    "        D2f = J.T @ J\n",
    "        zk = la.solve(D2f, J.T @ r(xk))\n",
    "        \n",
    "        xk = x0 - zk\n",
    "        \n",
    "        if la.norm(Df, np.inf) < tol:\n",
    "            conv = True\n",
    "            break\n",
    "            \n",
    "        x0 = xk\n",
    "        i += 1\n",
    "        \n",
    "        \n",
    "    return xk, conv, i"
   ]
  },
  {
   "cell_type": "code",
   "execution_count": 91,
   "metadata": {},
   "outputs": [
    {
     "data": {
      "text/plain": [
       "(array([2.89908882, 0.49967729]), False, 10)"
      ]
     },
     "execution_count": 91,
     "metadata": {},
     "output_type": "execute_result"
    }
   ],
   "source": [
    "# Generate random data for t = 0, 1, ..., 10.\n",
    "T = np.arange(10)\n",
    "y = 3*np.sin(0.5*T)+ 0.5*np.random.randn(10) # Perturbed data.\n",
    "# Define the model function and the residual (based on the data).\n",
    "model = lambda x, t: x[0]*np.sin(x[1]*t) # phi(x,t)\n",
    "residual = lambda x: model(x, T) - y # r(x) = phi(x,t) - y\n",
    "# Define the Jacobian of the residual function, computed by hand.\n",
    "jac = lambda x: np.column_stack((np.sin(x[1]*T), x[0]*T*np.cos(x[1]*T)))\n",
    "x0 = np.array([2.5,.6])\n",
    "gauss_newton(model, jac, residual, jac, x0)"
   ]
  },
  {
   "cell_type": "code",
   "execution_count": 92,
   "metadata": {},
   "outputs": [],
   "source": [
    "minx = opt.leastsq(func=residual, x0=np.array([2.5,.6]), Dfun=jac)"
   ]
  },
  {
   "cell_type": "code",
   "execution_count": 93,
   "metadata": {},
   "outputs": [
    {
     "data": {
      "text/plain": [
       "(array([2.89908937, 0.4996771 ]), 1)"
      ]
     },
     "execution_count": 93,
     "metadata": {},
     "output_type": "execute_result"
    }
   ],
   "source": [
    "minx"
   ]
  },
  {
   "cell_type": "markdown",
   "metadata": {},
   "source": [
    "### Calculating the parameters of a model using the least squares function"
   ]
  },
  {
   "cell_type": "code",
   "execution_count": 94,
   "metadata": {},
   "outputs": [],
   "source": [
    "census = np.load('population.npy')"
   ]
  },
  {
   "cell_type": "code",
   "execution_count": 95,
   "metadata": {},
   "outputs": [
    {
     "data": {
      "text/plain": [
       "array([[  0.   ,   3.929],\n",
       "       [  1.   ,   5.308],\n",
       "       [  2.   ,   7.24 ],\n",
       "       [  3.   ,   9.638],\n",
       "       [  4.   ,  12.866],\n",
       "       [  5.   ,  17.069],\n",
       "       [  6.   ,  23.192],\n",
       "       [  7.   ,  31.443],\n",
       "       [  8.   ,  38.558],\n",
       "       [  9.   ,  50.156],\n",
       "       [ 10.   ,  62.948],\n",
       "       [ 11.   ,  75.996],\n",
       "       [ 12.   ,  91.972],\n",
       "       [ 13.   , 105.711],\n",
       "       [ 14.   , 122.775],\n",
       "       [ 15.   , 131.669]])"
      ]
     },
     "execution_count": 95,
     "metadata": {},
     "output_type": "execute_result"
    }
   ],
   "source": [
    "census"
   ]
  },
  {
   "cell_type": "code",
   "execution_count": 96,
   "metadata": {},
   "outputs": [],
   "source": [
    "T = census[:, 0]\n",
    "y = census[:, 1]*1_000_000"
   ]
  },
  {
   "cell_type": "code",
   "execution_count": 97,
   "metadata": {},
   "outputs": [
    {
     "data": {
      "text/plain": [
       "(array([98.55242473,  0.18474368, 61.85172316]), 1)"
      ]
     },
     "execution_count": 97,
     "metadata": {},
     "output_type": "execute_result"
    }
   ],
   "source": [
    "# Model\n",
    "model = lambda x, t: x[0]*np.exp(x[1]*(t+x[2]))\n",
    "residual = lambda x: model(x, T) - y\n",
    "jac = lambda x: np.column_stack((np.exp(x[1]*(T+x[2])),\n",
    "                                 x[0]*(T+x[2])*np.exp(x[1]*(T+x[2])),\n",
    "                                 x[0]*x[1]*np.exp(x[1]*(T+x[2]))))\n",
    "opt.leastsq(func=residual, x0=np.array([1.5, 4., 2.5]), Dfun=jac)"
   ]
  }
 ],
 "metadata": {
  "kernelspec": {
   "display_name": "Python 3",
   "language": "python",
   "name": "python3"
  },
  "language_info": {
   "codemirror_mode": {
    "name": "ipython",
    "version": 3
   },
   "file_extension": ".py",
   "mimetype": "text/x-python",
   "name": "python",
   "nbconvert_exporter": "python",
   "pygments_lexer": "ipython3",
   "version": "3.7.4"
  }
 },
 "nbformat": 4,
 "nbformat_minor": 2
}
