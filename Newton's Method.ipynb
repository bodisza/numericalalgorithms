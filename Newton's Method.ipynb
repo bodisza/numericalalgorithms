{
 "cells": [
  {
   "cell_type": "code",
   "execution_count": 56,
   "metadata": {},
   "outputs": [],
   "source": [
    "F = lambda x: x/2"
   ]
  },
  {
   "cell_type": "code",
   "execution_count": 57,
   "metadata": {},
   "outputs": [],
   "source": [
    "x0, tol, maxiter = 10 , 1e-9, 8"
   ]
  },
  {
   "cell_type": "code",
   "execution_count": 58,
   "metadata": {},
   "outputs": [
    {
     "name": "stdout",
     "output_type": "stream",
     "text": [
      "10  5.0  2.5  1.25  0.625  0.3125  0.15625  0.078125  "
     ]
    }
   ],
   "source": [
    "for k in range(maxiter):\n",
    "    print(x0, end = '  ')\n",
    "    x1 = F(x0)\n",
    "    if abs(x1 - x0) < tol:\n",
    "        break\n",
    "    x0 = x1"
   ]
  },
  {
   "cell_type": "markdown",
   "metadata": {},
   "source": [
    "### Newton's method in one dimension"
   ]
  },
  {
   "cell_type": "code",
   "execution_count": 59,
   "metadata": {},
   "outputs": [],
   "source": [
    "def newton(F, x0, Fp, *args ,tol = 10e-5, maxiter=15, **kwargs):\n",
    "    for k in range(maxiter):\n",
    "        print(x0, end = '  ')\n",
    "        x1 = x0 - F(x0)/Fp(x0)\n",
    "        if abs(x1 - x0) < tol:\n",
    "            break\n",
    "        x0 = x1"
   ]
  },
  {
   "cell_type": "code",
   "execution_count": 60,
   "metadata": {},
   "outputs": [],
   "source": [
    "import math"
   ]
  },
  {
   "cell_type": "code",
   "execution_count": 61,
   "metadata": {},
   "outputs": [],
   "source": [
    "F1 = lambda x : math.exp(x) - 2\n",
    "F1p = lambda x: math.exp(x)"
   ]
  },
  {
   "cell_type": "code",
   "execution_count": 62,
   "metadata": {},
   "outputs": [
    {
     "name": "stdout",
     "output_type": "stream",
     "text": [
      "3  2.099574136735728  1.3445913148420177  0.8658837315075016  0.7072429724520415  0.6932460610894609  "
     ]
    }
   ],
   "source": [
    "newton(F1, 3, F1p)"
   ]
  },
  {
   "cell_type": "code",
   "execution_count": 63,
   "metadata": {},
   "outputs": [],
   "source": [
    "F2 = lambda x : math.pow(x, 4) - 2\n",
    "F2p = lambda x: 4*math.pow(x, 3)"
   ]
  },
  {
   "cell_type": "code",
   "execution_count": 64,
   "metadata": {},
   "outputs": [
    {
     "name": "stdout",
     "output_type": "stream",
     "text": [
      "3  2.2685185185185186  1.7442183902021173  1.4023890692126304  1.2330778785875376  1.1914933448318163  1.189213686794206  "
     ]
    }
   ],
   "source": [
    "newton(F2, 3, F2p)"
   ]
  },
  {
   "cell_type": "code",
   "execution_count": 65,
   "metadata": {},
   "outputs": [],
   "source": [
    "from scipy.optimize import newton"
   ]
  },
  {
   "cell_type": "code",
   "execution_count": 66,
   "metadata": {},
   "outputs": [
    {
     "data": {
      "text/plain": [
       "0.6931471805599454"
      ]
     },
     "execution_count": 66,
     "metadata": {},
     "output_type": "execute_result"
    }
   ],
   "source": [
    "newton(F1, 3)"
   ]
  },
  {
   "cell_type": "code",
   "execution_count": 67,
   "metadata": {},
   "outputs": [
    {
     "data": {
      "text/plain": [
       "1.189207115002721"
      ]
     },
     "execution_count": 67,
     "metadata": {},
     "output_type": "execute_result"
    }
   ],
   "source": [
    "newton(F2, 3)"
   ]
  },
  {
   "cell_type": "markdown",
   "metadata": {},
   "source": [
    "### Computing the interest rate of the following function"
   ]
  },
  {
   "cell_type": "code",
   "execution_count": 68,
   "metadata": {},
   "outputs": [],
   "source": [
    "def f(r, *, N1 = 30, N2 = 20, P1 = 2000, P2 = 8000):\n",
    "    return P1*(math.pow((1 + r), N1) - 1) - P2*(1 - math.pow((1 + r), -N2)) "
   ]
  },
  {
   "cell_type": "code",
   "execution_count": 69,
   "metadata": {},
   "outputs": [],
   "source": [
    "def f_p(r, *, N1 = 30, N2 = 20, P1 = 2000, P2 = 8000):\n",
    "    return P1*N1*(math.pow((1 + r), N1 - 1)) + P2*N2*(math.pow((1 + r), -N2-1))"
   ]
  },
  {
   "cell_type": "code",
   "execution_count": 70,
   "metadata": {},
   "outputs": [],
   "source": [
    "def newton_(F, x0, Fp, *args ,tol = 10e-5, maxiter=15, **kwargs):\n",
    "    for k in range(maxiter):\n",
    "        print(x0, end = '  ')\n",
    "        x1 = x0 - F(x0)/Fp(x0)\n",
    "        if abs(x1 - x0) < tol:\n",
    "            break\n",
    "        x0 = x1"
   ]
  },
  {
   "cell_type": "code",
   "execution_count": 71,
   "metadata": {},
   "outputs": [
    {
     "name": "stdout",
     "output_type": "stream",
     "text": [
      "0.1  0.07319932178867032  0.056062289697879145  0.047423959751489414  0.04330375535747452  0.04123232483439167  0.040137400277632386  0.039540105525007224  0.03920823821813561  0.03902190097712219  0.0389166486211166  "
     ]
    }
   ],
   "source": [
    "newton_(f, 0.1, f_p)"
   ]
  },
  {
   "cell_type": "code",
   "execution_count": 72,
   "metadata": {},
   "outputs": [
    {
     "data": {
      "text/plain": [
       "0.038778432029803495"
      ]
     },
     "execution_count": 72,
     "metadata": {},
     "output_type": "execute_result"
    }
   ],
   "source": [
    "newton(f, 0.1)"
   ]
  },
  {
   "cell_type": "markdown",
   "metadata": {},
   "source": [
    "### Newton's method with backtracking"
   ]
  },
  {
   "cell_type": "markdown",
   "metadata": {},
   "source": [
    "**Backtracking** : $ x_{k+1} = x_{k} - \\alpha * \\frac{f(x_{k})}{f'(x_{k})} $, where $\\alpha \\in (0, 1]$"
   ]
  },
  {
   "cell_type": "code",
   "execution_count": 73,
   "metadata": {},
   "outputs": [],
   "source": [
    "def newton_2(F, x0, Fp, *args, α = 1, tol = 10e-5, maxiter=15, **kwargs):\n",
    "    for k in range(maxiter):\n",
    "        print(x0, end = '  ')\n",
    "        x1 = x0 - α * F(x0)/Fp(x0)\n",
    "        if abs(x1 - x0) < tol:\n",
    "            break\n",
    "        x0 = x1"
   ]
  },
  {
   "cell_type": "code",
   "execution_count": 74,
   "metadata": {},
   "outputs": [],
   "source": [
    "import numpy as np\n",
    "f = lambda x: np.sign(x) * np.power(np.abs(x), 1./3)\n",
    "f_p = lambda x: x* np.sign(x) * 1/3 * np.power(np.abs(x), -5./3)"
   ]
  },
  {
   "cell_type": "code",
   "execution_count": 75,
   "metadata": {},
   "outputs": [
    {
     "name": "stdout",
     "output_type": "stream",
     "text": [
      "0.01  -0.019999999999999997  0.03999999999999999  -0.07999999999999996  0.15999999999999986  -0.31999999999999973  0.6399999999999993  -1.2799999999999985  2.5599999999999965  -5.119999999999994  10.23999999999999  -20.479999999999983  40.95999999999998  -81.91999999999996  163.83999999999997  "
     ]
    }
   ],
   "source": [
    "newton_2(f, 0.01, f_p) #NO CONVERGENCE!"
   ]
  },
  {
   "cell_type": "code",
   "execution_count": 76,
   "metadata": {},
   "outputs": [
    {
     "name": "stdout",
     "output_type": "stream",
     "text": [
      "0.01  -0.0019999999999999983  0.0003999999999999989  -7.999999999999961e-05  "
     ]
    }
   ],
   "source": [
    "newton_2(f, 0.01, f_p, α=0.4) #CONVERGES!!"
   ]
  },
  {
   "cell_type": "markdown",
   "metadata": {},
   "source": [
    "Main takeaway: It is sometimes better to use backtracking but it is hard to find the right $\\alpha$"
   ]
  },
  {
   "cell_type": "code",
   "execution_count": 77,
   "metadata": {},
   "outputs": [],
   "source": [
    "def newton_2_mod(F, x0, Fp, *args, α = 1, tol = 10e-5, maxiter=150, **kwargs):\n",
    "    it = 0\n",
    "    for k in range(maxiter):\n",
    "        x1 = x0 - α * F(x0)/Fp(x0)\n",
    "        if abs(x1 - x0) < tol:\n",
    "            break\n",
    "        x0 = x1\n",
    "        it += 1\n",
    "    return it"
   ]
  },
  {
   "cell_type": "code",
   "execution_count": 78,
   "metadata": {},
   "outputs": [],
   "source": [
    "import numpy as np\n",
    "f = lambda x: np.sign(x) * np.power(np.abs(x), 1./3)\n",
    "f_p = lambda x: x* np.sign(x) * 1/3 * np.power(np.abs(x), -5./3)"
   ]
  },
  {
   "cell_type": "code",
   "execution_count": 79,
   "metadata": {},
   "outputs": [],
   "source": [
    "interval = np.linspace(0.001, 1, 1000)"
   ]
  },
  {
   "cell_type": "code",
   "execution_count": 80,
   "metadata": {},
   "outputs": [],
   "source": [
    "mi = list()\n",
    "for a in interval:\n",
    "    mi.append(newton_2_mod(f, 0.01, f_p, α = a))"
   ]
  },
  {
   "cell_type": "code",
   "execution_count": 81,
   "metadata": {},
   "outputs": [],
   "source": [
    "import matplotlib.pyplot as plt"
   ]
  },
  {
   "cell_type": "code",
   "execution_count": 82,
   "metadata": {},
   "outputs": [
    {
     "data": {
      "image/png": "[encoded data removed]",
      "text/plain": [
       "<Figure size 432x288 with 1 Axes>"
      ]
     },
     "metadata": {
      "needs_background": "light"
     },
     "output_type": "display_data"
    }
   ],
   "source": [
    "fig, ax = plt.subplots()\n",
    "ax.plot(interval, mi, label = 'Iterations')\n",
    "plt.xlabel('α')\n",
    "plt.ylabel('Iterations')\n",
    "plt.show()"
   ]
  },
  {
   "cell_type": "code",
   "execution_count": 83,
   "metadata": {},
   "outputs": [
    {
     "data": {
      "text/plain": [
       "0"
      ]
     },
     "execution_count": 83,
     "metadata": {},
     "output_type": "execute_result"
    }
   ],
   "source": [
    "min(mi)"
   ]
  },
  {
   "cell_type": "markdown",
   "metadata": {},
   "source": [
    "### Newton’s Method in Higher Dimensions"
   ]
  },
  {
   "cell_type": "code",
   "execution_count": 84,
   "metadata": {},
   "outputs": [],
   "source": [
    "import numpy as np\n",
    "import scipy.linalg as la"
   ]
  },
  {
   "cell_type": "code",
   "execution_count": 85,
   "metadata": {},
   "outputs": [],
   "source": [
    "def newton_vec(F, x0, Fp, *args ,tol = 10e-5, maxiter=15, **kwargs):\n",
    "    \n",
    "    if np.isscalar(x0):\n",
    "        \n",
    "        for k in range(maxiter):\n",
    "            print(x0, end = '  ')\n",
    "            x1 = x0 - F(x0)/Fp(x0)\n",
    "            if abs(x1 - x0) < tol:\n",
    "                break\n",
    "            x0 = x1\n",
    "    else:\n",
    "        \n",
    "        for k in range(maxiter):\n",
    "            print(x0, end = '  ')\n",
    "            y = la.solve(Fp(*x0), F(*x0))\n",
    "            x1 = x0 - y\n",
    "            if la.norm(x1 - x0) < tol:\n",
    "                break\n",
    "            x0 = x1\n",
    "    \n",
    "    return x1"
   ]
  },
  {
   "cell_type": "code",
   "execution_count": 86,
   "metadata": {},
   "outputs": [],
   "source": [
    "def newton_vec_2(F, x0, Fp, *args , α = 1, tol = 10e-5, maxiter=15, **kwargs):\n",
    "    \n",
    "    if np.isscalar(x0):\n",
    "        \n",
    "        for k in range(maxiter):\n",
    "            print(x0, end = '  ')\n",
    "            x1 = x0 - α * F(x0)/Fp(x0)\n",
    "            if abs(x1 - x0) < tol:\n",
    "                break\n",
    "            x0 = x1\n",
    "    else:\n",
    "        \n",
    "        for k in range(maxiter):\n",
    "            print(x0, end = '  ')\n",
    "            y = la.solve(Fp(*x0), F(*x0))\n",
    "            x1 = x0 - α * y\n",
    "            if la.norm(x1 - x0) < tol:\n",
    "                break\n",
    "            x0 = x1\n",
    "            \n",
    "    return x1"
   ]
  },
  {
   "cell_type": "markdown",
   "metadata": {},
   "source": [
    "**Solving the equation system:**\n",
    "$$ \\gamma x y - x (1 + y) = 0 $$\n",
    "$$ -x y + (\\delta - y)(1 + y) = 0 $$"
   ]
  },
  {
   "cell_type": "code",
   "execution_count": 87,
   "metadata": {},
   "outputs": [],
   "source": [
    "import sympy as sp"
   ]
  },
  {
   "cell_type": "code",
   "execution_count": 88,
   "metadata": {},
   "outputs": [],
   "source": [
    "x,y,γ,δ = sp.symbols('x,y,γ,δ', real=True)\n",
    "f1 = γ*x*y - x*(1+y)\n",
    "f2 = -x*y + (δ - y)*(1 + y)\n",
    "F = sp.Matrix([f1,f2])\n",
    "J = F.jacobian([x, y])"
   ]
  },
  {
   "cell_type": "code",
   "execution_count": 89,
   "metadata": {},
   "outputs": [
    {
     "data": {
      "text/latex": [
       "$\\displaystyle \\left[\\begin{matrix}y γ - y - 1 & x γ - x\\\\- y & - x - 2 y + δ - 1\\end{matrix}\\right]$"
      ],
      "text/plain": [
       "Matrix([\n",
       "[y*γ - y - 1,          x*γ - x],\n",
       "[         -y, -x - 2*y + δ - 1]])"
      ]
     },
     "execution_count": 89,
     "metadata": {},
     "output_type": "execute_result"
    }
   ],
   "source": [
    "J"
   ]
  },
  {
   "cell_type": "code",
   "execution_count": 90,
   "metadata": {},
   "outputs": [],
   "source": [
    "def DF(x, y, *, δ = 1, γ = 5):\n",
    "    return [[γ*y - y - 1, x*γ - x], [-y, -x - 2*y + δ -1]]"
   ]
  },
  {
   "cell_type": "code",
   "execution_count": 91,
   "metadata": {},
   "outputs": [],
   "source": [
    "def F(x, y, *, δ = 1, γ = 5):\n",
    "    return [γ*x*y - x*(1 + y), -x*y + (δ - y)*(1 + y)]"
   ]
  },
  {
   "cell_type": "code",
   "execution_count": 92,
   "metadata": {},
   "outputs": [
    {
     "name": "stdout",
     "output_type": "stream",
     "text": [
      "[-0.2, 0.2]  [ 6.4 -1.4]  [ 2.03443709 -0.87549669]  [-0.32490476 -1.05524137]  [-0.01300739 -1.00298674]  [-3.09194513e-05 -1.00000830e+00]  "
     ]
    },
    {
     "data": {
      "text/plain": [
       "array([-2.05313103e-10, -1.00000000e+00])"
      ]
     },
     "execution_count": 92,
     "metadata": {},
     "output_type": "execute_result"
    }
   ],
   "source": [
    "newton_vec_2(F, [-0.2, 0.2], DF) #(0, -1)"
   ]
  },
  {
   "cell_type": "code",
   "execution_count": 93,
   "metadata": {},
   "outputs": [
    {
     "name": "stdout",
     "output_type": "stream",
     "text": [
      "[0.1, 0.1]  [1.8 2.8]  [0.89023861 1.53882863]  [0.32527682 1.06791435]  [0.02742679 0.9989492 ]  [-3.86783276e-05  1.00000539e+00]  "
     ]
    },
    {
     "data": {
      "text/plain": [
       "array([-2.78095354e-10,  1.00000000e+00])"
      ]
     },
     "execution_count": 93,
     "metadata": {},
     "output_type": "execute_result"
    }
   ],
   "source": [
    "newton_vec_2(F, [0.1, 0.1], DF) #(0, 1)"
   ]
  },
  {
   "cell_type": "code",
   "execution_count": 94,
   "metadata": {},
   "outputs": [],
   "source": [
    "x = np.arange(0, 0.25, 0.01)\n",
    "y = np.arange(-0.25, 0, 0.01)"
   ]
  },
  {
   "cell_type": "code",
   "execution_count": 95,
   "metadata": {},
   "outputs": [
    {
     "name": "stdout",
     "output_type": "stream",
     "text": [
      "[0.3, 0.2]  [3.03157895 0.70526316]  [13.16538258 -1.27182989]  [14.02569242  0.34944604]  [3.58256106 0.32404469]  [3.78265111 0.24586452]  [3.75013832 0.24996445]  [3.75000001 0.25      ]  "
     ]
    },
    {
     "data": {
      "text/plain": [
       "array([3.75, 0.25])"
      ]
     },
     "execution_count": 95,
     "metadata": {},
     "output_type": "execute_result"
    }
   ],
   "source": [
    "newton_vec_2(F, [0.3, 0.2], DF) #(3.75, 0.25)"
   ]
  }
 ],
 "metadata": {
  "kernelspec": {
   "display_name": "Python 3",
   "language": "python",
   "name": "python3"
  },
  "language_info": {
   "codemirror_mode": {
    "name": "ipython",
    "version": 3
   },
   "file_extension": ".py",
   "mimetype": "text/x-python",
   "name": "python",
   "nbconvert_exporter": "python",
   "pygments_lexer": "ipython3",
   "version": "3.7.4"
  }
 },
 "nbformat": 4,
 "nbformat_minor": 2
}
