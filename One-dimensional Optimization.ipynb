{
 "cells": [
  {
   "cell_type": "markdown",
   "metadata": {},
   "source": [
    "# One-dimensional Optimization"
   ]
  },
  {
   "cell_type": "markdown",
   "metadata": {},
   "source": [
    "### Golden Section Search"
   ]
  },
  {
   "cell_type": "code",
   "execution_count": 1,
   "metadata": {},
   "outputs": [],
   "source": [
    "import numpy as np\n",
    "\n",
    "def golden_section(f, a, b, *, tol=10**-3, max_iter=1000):\n",
    "    \n",
    "    conv = False\n",
    "    i = 0\n",
    "    \n",
    "    x0 = (a+b)/2\n",
    "    ϕ = (1+np.sqrt(5))/2\n",
    "    \n",
    "    while i <= max_iter:\n",
    "        \n",
    "        c = (b-a)/ϕ\n",
    "        a_h = b-c\n",
    "        b_h = a+c\n",
    "        \n",
    "        if f(a_h) <= f(b_h):\n",
    "            b = b_h\n",
    "        else:\n",
    "            a = a_h\n",
    "        \n",
    "        x1 = (a+b)/2\n",
    "        \n",
    "        if abs(x0-x1) < tol:\n",
    "            conv = True\n",
    "            break\n",
    "            \n",
    "        x0 = x1\n",
    "        i += 1\n",
    "        \n",
    "    return x1, conv, i"
   ]
  },
  {
   "cell_type": "code",
   "execution_count": 2,
   "metadata": {},
   "outputs": [
    {
     "data": {
      "text/plain": [
       "(1.385998267147321, True, 14)"
      ]
     },
     "execution_count": 2,
     "metadata": {},
     "output_type": "execute_result"
    }
   ],
   "source": [
    "golden_section(lambda x: np.exp(x)-4*x, 0, 3)"
   ]
  },
  {
   "cell_type": "code",
   "execution_count": 3,
   "metadata": {},
   "outputs": [
    {
     "data": {
      "text/plain": [
       "1.3862578679031485"
      ]
     },
     "execution_count": 3,
     "metadata": {},
     "output_type": "execute_result"
    }
   ],
   "source": [
    "from scipy import optimize as opt\n",
    "f = lambda x : np.exp(x) - 4*x\n",
    "opt.golden(f, brack=(0,3), tol=.001)"
   ]
  },
  {
   "cell_type": "markdown",
   "metadata": {},
   "source": [
    "### The Newton Method"
   ]
  },
  {
   "cell_type": "code",
   "execution_count": 4,
   "metadata": {},
   "outputs": [],
   "source": [
    "def newton_method(df, d2f, x0, *, tol=10**-3, maxiter=1000):\n",
    "    \n",
    "    conv = False\n",
    "    i = 0\n",
    "    \n",
    "    while i <= maxiter:\n",
    "        \n",
    "        x1 = x0 - df(x0)/d2f(x0)\n",
    "        \n",
    "        if abs(x1-x0) < tol:\n",
    "            conv = True\n",
    "            break\n",
    "        \n",
    "        x0 = x1\n",
    "        i += 1\n",
    "            \n",
    "    return x1, conv, i"
   ]
  },
  {
   "cell_type": "code",
   "execution_count": 5,
   "metadata": {},
   "outputs": [
    {
     "data": {
      "text/plain": [
       "(-1.4473142257960008, True, 46)"
      ]
     },
     "execution_count": 5,
     "metadata": {},
     "output_type": "execute_result"
    }
   ],
   "source": [
    "newton_method(lambda x : 2*x + 5*np.cos(5*x), lambda x : 2 - 25*np.sin(5*x), 0)"
   ]
  },
  {
   "cell_type": "code",
   "execution_count": 6,
   "metadata": {},
   "outputs": [
    {
     "data": {
      "text/plain": [
       "-1.4473142236328096"
      ]
     },
     "execution_count": 6,
     "metadata": {},
     "output_type": "execute_result"
    }
   ],
   "source": [
    "opt.newton(lambda x : 2*x + 5*np.cos(5*x), x0=0, fprime=lambda x : 2 - 25*np.sin(5*x), tol=1e-10, maxiter=500)"
   ]
  },
  {
   "cell_type": "markdown",
   "metadata": {},
   "source": [
    "### The Secant Method"
   ]
  },
  {
   "cell_type": "code",
   "execution_count": 7,
   "metadata": {},
   "outputs": [],
   "source": [
    "def secant_method(df, x0, x1, *, tol=10**-3, maxiter=1000):\n",
    "    \n",
    "    conv = False\n",
    "    i = 0\n",
    "    f0 = df(x0)\n",
    "    \n",
    "    while i <= maxiter:\n",
    "        \n",
    "        f1 = df(x1)\n",
    "        \n",
    "        x2 = (x0*f1-x1*f0)/(f1-f0)\n",
    "        \n",
    "        if abs(x2-x1) < tol:\n",
    "            conv = True\n",
    "            break\n",
    "        \n",
    "        x0 = x1\n",
    "        x1 = x2\n",
    "        f0 = f1\n",
    "        \n",
    "        i += 1\n",
    "            \n",
    "    return x2, conv, i"
   ]
  },
  {
   "cell_type": "code",
   "execution_count": 8,
   "metadata": {},
   "outputs": [
    {
     "data": {
      "text/plain": [
       "(-0.16367721846481662, True, 7)"
      ]
     },
     "execution_count": 8,
     "metadata": {},
     "output_type": "execute_result"
    }
   ],
   "source": [
    "df = lambda x: 2*x + np.cos(x) + 10*np.cos(10*x)\n",
    "secant_method(df, 0, -1)"
   ]
  },
  {
   "cell_type": "code",
   "execution_count": 9,
   "metadata": {},
   "outputs": [
    {
     "data": {
      "text/plain": [
       "0.45308663951300454"
      ]
     },
     "execution_count": 9,
     "metadata": {},
     "output_type": "execute_result"
    }
   ],
   "source": [
    "df = lambda x: 2*x + np.cos(x) + 10*np.cos(10*x)\n",
    "opt.newton(df, x0=0, tol=1e-10, maxiter=500)"
   ]
  },
  {
   "cell_type": "code",
   "execution_count": 10,
   "metadata": {},
   "outputs": [
    {
     "data": {
      "text/plain": [
       "(-1.027157922490024, True, 4)"
      ]
     },
     "execution_count": 10,
     "metadata": {},
     "output_type": "execute_result"
    }
   ],
   "source": [
    "df = lambda x : 2*x + 5*np.cos(5*x)\n",
    "secant_method(df, 0, -1, tol = 10**-5)"
   ]
  },
  {
   "cell_type": "markdown",
   "metadata": {},
   "source": [
    "### Descent Methods"
   ]
  },
  {
   "cell_type": "code",
   "execution_count": 11,
   "metadata": {},
   "outputs": [],
   "source": [
    "def backtracking(f, df, xk, pk, α, ρ, c):\n",
    "    Dfp = np.transpose(df(xk)) @ pk\n",
    "    fx = f(xk)\n",
    "    while f(xk + α*pk) > fx + c*α*Dfp:\n",
    "        α = ρ * α\n",
    "        \n",
    "    return α"
   ]
  },
  {
   "cell_type": "code",
   "execution_count": 12,
   "metadata": {},
   "outputs": [
    {
     "data": {
      "text/plain": [
       "9.066943647109741e-16"
      ]
     },
     "execution_count": 12,
     "metadata": {},
     "output_type": "execute_result"
    }
   ],
   "source": [
    "f = lambda x: x[0]**2 + x[1]**2 + x[2]**2\n",
    "Df = lambda x: np.array([2*x[0], 2*x[1], 2*x[2]])\n",
    "x = np.array([150., .03, 40.]) # Current minimizer guesss.\n",
    "p = np.array([-.5, -100., -4.5]) # Current search direction.\n",
    "backtracking(f, Df, x, p, 3, 0.4, 2)"
   ]
  },
  {
   "cell_type": "code",
   "execution_count": 13,
   "metadata": {},
   "outputs": [],
   "source": [
    "from scipy.optimize import linesearch\n",
    "from autograd import numpy as anp\n",
    "from autograd import grad\n",
    "\n",
    "# Get a step size for f(x,y,z) = x^2 + y^2 + z^2.\n",
    "f = lambda x: x[0]**2 + x[1]**2 + x[2]**2\n",
    "x = np.array([150., .03, 40.]) # Current minimizer guesss.\n",
    "p = np.array([-.5, -100., -4.5]) # Current search direction.\n",
    "phi = lambda alpha: f(x + alpha*p) # Define phi(alpha).\n",
    "dphi = grad(phi)\n",
    "alpha, _ = linesearch.scalar_search_armijo(phi, phi(0.), dphi(0.))"
   ]
  },
  {
   "cell_type": "code",
   "execution_count": 14,
   "metadata": {},
   "outputs": [
    {
     "data": {
      "text/plain": [
       "0.025747218202684496"
      ]
     },
     "execution_count": 14,
     "metadata": {},
     "output_type": "execute_result"
    }
   ],
   "source": [
    "alpha"
   ]
  }
 ],
 "metadata": {
  "kernelspec": {
   "display_name": "Python 3",
   "language": "python",
   "name": "python3"
  },
  "language_info": {
   "codemirror_mode": {
    "name": "ipython",
    "version": 3
   },
   "file_extension": ".py",
   "mimetype": "text/x-python",
   "name": "python",
   "nbconvert_exporter": "python",
   "pygments_lexer": "ipython3",
   "version": "3.7.4"
  }
 },
 "nbformat": 4,
 "nbformat_minor": 2
}
