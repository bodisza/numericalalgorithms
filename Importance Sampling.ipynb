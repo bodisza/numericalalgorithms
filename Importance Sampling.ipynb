{
 "cells": [
  {
   "cell_type": "code",
   "execution_count": 1,
   "metadata": {},
   "outputs": [],
   "source": [
    "from scipy import stats\n",
    "import numpy as np"
   ]
  },
  {
   "cell_type": "code",
   "execution_count": 2,
   "metadata": {},
   "outputs": [],
   "source": [
    "F = stats.norm()\n",
    "#loc -> mean, scale -> s.d.\n",
    "G = stats.norm(loc=3, scale=2)"
   ]
  },
  {
   "cell_type": "code",
   "execution_count": 3,
   "metadata": {},
   "outputs": [
    {
     "data": {
      "text/plain": [
       "0.24197072451914337"
      ]
     },
     "execution_count": 3,
     "metadata": {},
     "output_type": "execute_result"
    }
   ],
   "source": [
    "# Probability of drawing 1 from the distribution\n",
    "F.pdf(1)"
   ]
  },
  {
   "cell_type": "code",
   "execution_count": 4,
   "metadata": {},
   "outputs": [
    {
     "data": {
      "text/plain": [
       "-0.1388123360822321"
      ]
     },
     "execution_count": 4,
     "metadata": {},
     "output_type": "execute_result"
    }
   ],
   "source": [
    "#Random number form the dist.\n",
    "F.rvs()"
   ]
  },
  {
   "cell_type": "code",
   "execution_count": 5,
   "metadata": {},
   "outputs": [
    {
     "data": {
      "text/plain": [
       "array([0.4971139 , 0.71663346])"
      ]
     },
     "execution_count": 5,
     "metadata": {},
     "output_type": "execute_result"
    }
   ],
   "source": [
    "F.rvs(size=2)"
   ]
  },
  {
   "cell_type": "code",
   "execution_count": 6,
   "metadata": {},
   "outputs": [
    {
     "data": {
      "text/plain": [
       "<Figure size 640x480 with 1 Axes>"
      ]
     },
     "metadata": {},
     "output_type": "display_data"
    }
   ],
   "source": [
    "from matplotlib import pyplot as plt\n",
    "X = np.linspace(-4, 4, 100)\n",
    "plt.plot(X, F.pdf(X))\n",
    "plt.show()"
   ]
  },
  {
   "cell_type": "markdown",
   "metadata": {},
   "source": [
    "Use that \n",
    "$$ E[f(x)] = \\int^{\\infty}_{-\\infty} h(x) f_X (x) = \\frac{1}{N} \\sum^{N}_{i=0} h(x_i) $$,\n",
    "where $ x_i \\sim \\mathcal N (0, 1)$ in that case."
   ]
  },
  {
   "cell_type": "markdown",
   "metadata": {},
   "source": [
    "### Random draw from a standard normal dist. (P>3)"
   ]
  },
  {
   "cell_type": "code",
   "execution_count": 7,
   "metadata": {},
   "outputs": [],
   "source": [
    "def norm_sampling(N: int) -> float:\n",
    "    \n",
    "    from scipy import stats\n",
    "    import numpy as np\n",
    "    \n",
    "    F = stats.norm()\n",
    "    sample = F.rvs(size=N)\n",
    "    \n",
    "    total = 0\n",
    "    \n",
    "    for i in sample:\n",
    "        \n",
    "        if i <= 3:\n",
    "            h = 0\n",
    "        else:\n",
    "            h = 1\n",
    "        \n",
    "        total += h\n",
    "    \n",
    "    return total/N"
   ]
  },
  {
   "cell_type": "code",
   "execution_count": 8,
   "metadata": {},
   "outputs": [
    {
     "data": {
      "text/plain": [
       "0.0013783"
      ]
     },
     "execution_count": 8,
     "metadata": {},
     "output_type": "execute_result"
    }
   ],
   "source": [
    "norm_sampling(10000000)"
   ]
  },
  {
   "cell_type": "markdown",
   "metadata": {},
   "source": [
    "### A more general function for importance sampling"
   ]
  },
  {
   "cell_type": "code",
   "execution_count": 9,
   "metadata": {},
   "outputs": [],
   "source": [
    "def importance_sampler(f, g, h, n):\n",
    "    \n",
    "    '''\n",
    "    Calculates the integral of a given distribution f, given g, h and n. \n",
    "    \n",
    "    f - target distribution\n",
    "    g - importance distribution\n",
    "    h - indicator function\n",
    "    n - sample size\n",
    "    '''\n",
    "    try:\n",
    "        sample = g.rvs(size=n)\n",
    "        total = sum([h(y)*f.pdf(y)/g.pdf(y) for y in sample])\n",
    "    \n",
    "        return total/n\n",
    "    \n",
    "    except:\n",
    "        print('Please give a function on which the rvs and pdf methods are callable.')"
   ]
  },
  {
   "cell_type": "code",
   "execution_count": 10,
   "metadata": {},
   "outputs": [],
   "source": [
    "F = stats.norm()\n",
    "G = stats.norm(loc = 4, scale = 1)"
   ]
  },
  {
   "cell_type": "code",
   "execution_count": 11,
   "metadata": {},
   "outputs": [],
   "source": [
    "def h(y):\n",
    "    \n",
    "    if y <= 3:\n",
    "        return 0\n",
    "    else:\n",
    "        return 1"
   ]
  },
  {
   "cell_type": "code",
   "execution_count": 12,
   "metadata": {},
   "outputs": [
    {
     "data": {
      "text/plain": [
       "0.0013725878046338806"
      ]
     },
     "execution_count": 12,
     "metadata": {},
     "output_type": "execute_result"
    }
   ],
   "source": [
    "importance_sampler(F, G, h, 100000)"
   ]
  },
  {
   "cell_type": "markdown",
   "metadata": {},
   "source": [
    "### A problem with gamma distribution"
   ]
  },
  {
   "cell_type": "markdown",
   "metadata": {},
   "source": [
    "```\n",
    "A tech support hotline receives an average of 2 calls per minute. What is the\n",
    "probability that they will have to wait at least 10 minutes to receive 9 calls?\n",
    "```"
   ]
  },
  {
   "cell_type": "code",
   "execution_count": 13,
   "metadata": {},
   "outputs": [],
   "source": [
    "F = stats.gamma(a=9, scale=.5)"
   ]
  },
  {
   "cell_type": "code",
   "execution_count": 14,
   "metadata": {},
   "outputs": [
    {
     "data": {
      "text/plain": [
       "<function matplotlib.pyplot.show(*args, **kw)>"
      ]
     },
     "execution_count": 14,
     "metadata": {},
     "output_type": "execute_result"
    },
    {
     "data": {
      "image/png": "[encoded data removed]",
      "text/plain": [
       "<Figure size 432x288 with 1 Axes>"
      ]
     },
     "metadata": {
      "needs_background": "light"
     },
     "output_type": "display_data"
    }
   ],
   "source": [
    "# Let's plot it, so I can find a good importance dist. for it\n",
    "X = np.linspace(0, 15, 1000)\n",
    "plt.plot(X, F.pdf(X))\n",
    "plt.show"
   ]
  },
  {
   "cell_type": "markdown",
   "metadata": {},
   "source": [
    "```\n",
    "We want to see the integral of this function above 10, so it is beter to choose an importance dist. that also overlaps that region.\n",
    "```"
   ]
  },
  {
   "cell_type": "code",
   "execution_count": 15,
   "metadata": {},
   "outputs": [],
   "source": [
    "G = stats.norm(loc=10, scale=3)"
   ]
  },
  {
   "cell_type": "code",
   "execution_count": 16,
   "metadata": {},
   "outputs": [],
   "source": [
    "def h(y):\n",
    "    \n",
    "    if y < 10:\n",
    "        return 0\n",
    "    else:\n",
    "        return 1"
   ]
  },
  {
   "cell_type": "code",
   "execution_count": 17,
   "metadata": {},
   "outputs": [
    {
     "data": {
      "text/plain": [
       "0.002087346429188492"
      ]
     },
     "execution_count": 17,
     "metadata": {},
     "output_type": "execute_result"
    }
   ],
   "source": [
    "importance_sampler(F, G, h, 100000)"
   ]
  },
  {
   "cell_type": "markdown",
   "metadata": {},
   "source": [
    "### A two dimensional example"
   ]
  },
  {
   "cell_type": "code",
   "execution_count": 18,
   "metadata": {},
   "outputs": [],
   "source": [
    "F = stats.multivariate_normal(mean=np.zeros(2), cov=np.eye(2))\n",
    "G = stats.multivariate_normal(mean=np.array([1, 1]), cov=np.eye(2))"
   ]
  },
  {
   "cell_type": "code",
   "execution_count": 19,
   "metadata": {},
   "outputs": [],
   "source": [
    "def h(x, y):\n",
    "    \n",
    "    if x < -1 and y > 1:\n",
    "        return 1\n",
    "    else:\n",
    "        return 0"
   ]
  },
  {
   "cell_type": "code",
   "execution_count": 20,
   "metadata": {},
   "outputs": [],
   "source": [
    "def multidim_importance_sampler(f, g, h, n):\n",
    "    \n",
    "        \n",
    "    '''\n",
    "    Calculates the integral of a given distribution f, given g, h and n. \n",
    "    \n",
    "    f - multidimensional target distribution\n",
    "    g - multidimensional importance distribution\n",
    "    h - indicator function\n",
    "    n - sample size\n",
    "    '''\n",
    "    \n",
    "    try:\n",
    "        sample = g.rvs(size=n)\n",
    "        total = sum([h(x, y)*f.pdf((x, y))/g.pdf((x, y)) for x, y in sample])\n",
    "    \n",
    "        return total/n\n",
    "    \n",
    "    except:\n",
    "        print('Please give a function on which the rvs and pdf methods are callable.')"
   ]
  },
  {
   "cell_type": "code",
   "execution_count": 21,
   "metadata": {},
   "outputs": [
    {
     "data": {
      "text/plain": [
       "0.024741631411004824"
      ]
     },
     "execution_count": 21,
     "metadata": {},
     "output_type": "execute_result"
    }
   ],
   "source": [
    "multidim_importance_sampler(F, G, h, 500000)"
   ]
  }
 ],
 "metadata": {
  "kernelspec": {
   "display_name": "Python 3",
   "language": "python",
   "name": "python3"
  },
  "language_info": {
   "codemirror_mode": {
    "name": "ipython",
    "version": 3
   },
   "file_extension": ".py",
   "mimetype": "text/x-python",
   "name": "python",
   "nbconvert_exporter": "python",
   "pygments_lexer": "ipython3",
   "version": "3.7.4"
  }
 },
 "nbformat": 4,
 "nbformat_minor": 2
}
