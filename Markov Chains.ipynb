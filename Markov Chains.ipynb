{
 "cells": [
  {
   "cell_type": "markdown",
   "metadata": {},
   "source": [
    "# Markov Chains"
   ]
  },
  {
   "cell_type": "markdown",
   "metadata": {},
   "source": [
    "### Markov Chain"
   ]
  },
  {
   "cell_type": "code",
   "execution_count": 18,
   "metadata": {},
   "outputs": [],
   "source": [
    "import numpy as np\n",
    "\n",
    "class MarkovChain:\n",
    "    def __init__(self, A, labs = None):\n",
    "        \n",
    "        import numpy as np\n",
    "        \n",
    "        l = len(A)\n",
    "        \n",
    "        if labs == None:\n",
    "            self.labs = [str(i) for i in range(l)]\n",
    "        else:\n",
    "            self.labs = labs\n",
    "            \n",
    "        self.A = np.array(A)\n",
    "        \n",
    "        if not all(map(lambda x: x == 1, self.A.sum(axis=0))):\n",
    "            raise ValueError('The matrix is not column stochastic.')\n",
    "        \n",
    "        self.lab_dic = dict(zip(self.labs, [i for i in range(l)]))"
   ]
  },
  {
   "cell_type": "code",
   "execution_count": 19,
   "metadata": {},
   "outputs": [],
   "source": [
    "A = [[0.7, 0.6], [0.3, 0.4]]"
   ]
  },
  {
   "cell_type": "code",
   "execution_count": 20,
   "metadata": {},
   "outputs": [],
   "source": [
    "weather_chain = MarkovChain(A, labs=[\"hot\", \"cold\"])"
   ]
  },
  {
   "cell_type": "code",
   "execution_count": 21,
   "metadata": {},
   "outputs": [
    {
     "data": {
      "text/plain": [
       "{'hot': 0, 'cold': 1}"
      ]
     },
     "execution_count": 21,
     "metadata": {},
     "output_type": "execute_result"
    }
   ],
   "source": [
    "weather_chain.lab_dic"
   ]
  },
  {
   "cell_type": "code",
   "execution_count": 22,
   "metadata": {},
   "outputs": [
    {
     "data": {
      "text/plain": [
       "0"
      ]
     },
     "execution_count": 22,
     "metadata": {},
     "output_type": "execute_result"
    }
   ],
   "source": [
    "weather_chain.lab_dic['hot']"
   ]
  },
  {
   "cell_type": "code",
   "execution_count": 23,
   "metadata": {},
   "outputs": [
    {
     "data": {
      "text/plain": [
       "array([[0.7, 0.6],\n",
       "       [0.3, 0.4]])"
      ]
     },
     "execution_count": 23,
     "metadata": {},
     "output_type": "execute_result"
    }
   ],
   "source": [
    "weather_chain.A"
   ]
  },
  {
   "cell_type": "markdown",
   "metadata": {},
   "source": [
    "### Adding transition"
   ]
  },
  {
   "cell_type": "code",
   "execution_count": 24,
   "metadata": {},
   "outputs": [],
   "source": [
    "class MarkovChain:\n",
    "    def __init__(self, A, labs = None):\n",
    "        \n",
    "        import numpy as np\n",
    "        \n",
    "        l = len(A)\n",
    "        \n",
    "        if labs == None:\n",
    "            self.labs = [str(i) for i in range(l)]\n",
    "        else:\n",
    "            self.labs = labs\n",
    "            \n",
    "        self.A = np.array(A)\n",
    "        \n",
    "        if not all(map(lambda x: x == 1, self.A.sum(axis=0))):\n",
    "            raise ValueError('The matrix is not column stochastic.')\n",
    "        \n",
    "        self.lab_dict = dict(zip(self.labs, [i for i in range(l)]))\n",
    "        \n",
    "    def transition(self, lab_el):\n",
    "        \n",
    "        #lab_el is the current state\n",
    "        _col = self.lab_dict[lab_el]\n",
    "        _new_state = np.argmax(np.random.multinomial(1, (self.A[:, int(_col)].flatten())))\n",
    "        return [k for k,v in self.lab_dict.items() if v == _new_state][0]"
   ]
  },
  {
   "cell_type": "code",
   "execution_count": 25,
   "metadata": {},
   "outputs": [
    {
     "data": {
      "text/plain": [
       "'cold'"
      ]
     },
     "execution_count": 25,
     "metadata": {},
     "output_type": "execute_result"
    }
   ],
   "source": [
    "A = [[0.7, 0.6], [0.3, 0.4]]\n",
    "weather_chain = MarkovChain(A, labs=[\"hot\", \"cold\"])\n",
    "weather_chain.transition(\"hot\")"
   ]
  },
  {
   "cell_type": "markdown",
   "metadata": {},
   "source": [
    "### Adding walk and path"
   ]
  },
  {
   "cell_type": "code",
   "execution_count": 26,
   "metadata": {},
   "outputs": [],
   "source": [
    "class MarkovChain:\n",
    "    \n",
    "    def __init__(self, A, labs = None):\n",
    "        \n",
    "        l = len(A)\n",
    "        \n",
    "        if labs == None:\n",
    "            self.labs = [str(i) for i in range(l)]\n",
    "        else:\n",
    "            self.labs = labs\n",
    "            \n",
    "        self.A = np.array(A)\n",
    "        \n",
    "        if not all(map(lambda x: x == 1, self.A.sum(axis=0))):\n",
    "            raise ValueError('The matrix is not column stochastic.')\n",
    "        \n",
    "        self.lab_dict = dict(zip(self.labs, [i for i in range(l)]))\n",
    "        \n",
    "    def transition(self, lab_el):\n",
    "        \n",
    "        #lab_el is the current state\n",
    "        _col = self.lab_dict[lab_el]\n",
    "        _new_state = np.argmax(np.random.multinomial(1, (self.A[:, int(_col)].flatten())))\n",
    "        return [k for k,v in self.lab_dict.items() if v == _new_state][0]\n",
    "    \n",
    "    def walk(self, start_lab, integer):\n",
    "        state_list = [start_lab]\n",
    "        i = 0\n",
    "        while i < integer:\n",
    "            next_state = self.transition(start_lab)\n",
    "            state_list.append(next_state)\n",
    "            start_lab = next_state\n",
    "            i += 1\n",
    "            \n",
    "        return state_list\n",
    "    \n",
    "    def path(self, start_lab, stop_lab):\n",
    "\n",
    "        state_list = [start_lab]\n",
    "        next_state = None\n",
    "        i = 0\n",
    "        \n",
    "        while next_state != stop_lab:\n",
    "            next_state = self.transition(start_lab)\n",
    "            state_list.append(next_state)\n",
    "            start_lab = next_state\n",
    "            i += 1\n",
    "            \n",
    "        return state_list"
   ]
  },
  {
   "cell_type": "code",
   "execution_count": 27,
   "metadata": {},
   "outputs": [
    {
     "data": {
      "text/plain": [
       "['cold',\n",
       " 'hot',\n",
       " 'cold',\n",
       " 'cold',\n",
       " 'cold',\n",
       " 'hot',\n",
       " 'hot',\n",
       " 'hot',\n",
       " 'hot',\n",
       " 'hot',\n",
       " 'cold']"
      ]
     },
     "execution_count": 27,
     "metadata": {},
     "output_type": "execute_result"
    }
   ],
   "source": [
    "A = [[0.7, 0.6], [0.3, 0.4]]\n",
    "weather_chain = MarkovChain(A, labs=[\"hot\", \"cold\"])\n",
    "weather_chain.walk(\"cold\", 10)"
   ]
  },
  {
   "cell_type": "code",
   "execution_count": 28,
   "metadata": {},
   "outputs": [
    {
     "data": {
      "text/plain": [
       "['cold',\n",
       " 'hot',\n",
       " 'hot',\n",
       " 'hot',\n",
       " 'hot',\n",
       " 'hot',\n",
       " 'hot',\n",
       " 'hot',\n",
       " 'hot',\n",
       " 'hot',\n",
       " 'hot',\n",
       " 'hot',\n",
       " 'hot',\n",
       " 'hot',\n",
       " 'cold']"
      ]
     },
     "execution_count": 28,
     "metadata": {},
     "output_type": "execute_result"
    }
   ],
   "source": [
    "A = [[0.7, 0.6], [0.3, 0.4]]\n",
    "weather_chain = MarkovChain(A, labs=[\"hot\", \"cold\"])\n",
    "weather_chain.path(\"cold\", \"cold\")"
   ]
  },
  {
   "cell_type": "markdown",
   "metadata": {},
   "source": [
    "### Adding a steady state finding method"
   ]
  },
  {
   "cell_type": "code",
   "execution_count": 29,
   "metadata": {},
   "outputs": [],
   "source": [
    "from scipy.linalg import norm\n",
    "\n",
    "class MarkovChain:\n",
    "    \n",
    "    def __init__(self, A, labs = None):\n",
    "        \n",
    "        self.l = len(A)\n",
    "        \n",
    "        if labs == None:\n",
    "            self.labs = [str(i) for i in range(self.l)]\n",
    "        else:\n",
    "            self.labs = labs\n",
    "            \n",
    "        self.A = np.array(A)\n",
    "        \n",
    "        if not all(map(lambda x: x == 1, self.A.sum(axis=0))):\n",
    "            raise ValueError('The matrix is not column stochastic.')\n",
    "        \n",
    "        self.lab_dict = dict(zip(self.labs, [i for i in range(self.l)]))\n",
    "        \n",
    "    def transition(self, lab_el):\n",
    "        \n",
    "        #lab_el is the current state\n",
    "        _col = self.lab_dict[lab_el]\n",
    "        _new_state = np.argmax(np.random.multinomial(1, (self.A[:, int(_col)].flatten())))\n",
    "        return [k for k,v in self.lab_dict.items() if v == _new_state][0]\n",
    "    \n",
    "    def walk(self, start_lab, integer):\n",
    "        state_list = [start_lab]\n",
    "        i = 0\n",
    "        while i < integer:\n",
    "            next_state = self.transition(start_lab)\n",
    "            state_list.append(next_state)\n",
    "            start_lab = next_state\n",
    "            i += 1\n",
    "            \n",
    "        return state_list\n",
    "    \n",
    "    def path(self, start_lab, stop_lab):\n",
    "\n",
    "        state_list = [start_lab]\n",
    "        next_state = None\n",
    "        i = 0\n",
    "        \n",
    "        while next_state != stop_lab:\n",
    "            next_state = self.transition(start_lab)\n",
    "            state_list.append(next_state)\n",
    "            start_lab = next_state\n",
    "            i += 1\n",
    "            \n",
    "        return state_list\n",
    "    \n",
    "    def steady_state(self, tol, maxiter):\n",
    "        \n",
    "        x0 = np.random.rand(self.l)\n",
    "        x1 = self.A @ x0\n",
    "        k = 0\n",
    "        \n",
    "\n",
    "        while norm(x1 - x0, 1) > tol or k < maxiter:\n",
    "\n",
    "            x1 = self.A @ x0\n",
    "            x0 = x1\n",
    "            k += 1\n",
    "\n",
    "        if k == maxiter-1:\n",
    "            raise ValueError('The Markov Chain does not converge!')\n",
    "        else:\n",
    "            return x1"
   ]
  },
  {
   "cell_type": "code",
   "execution_count": 30,
   "metadata": {},
   "outputs": [],
   "source": [
    "A = np.array([[.7, .6],[.3, .4]])\n",
    "markov = MarkovChain(A, labs=[\"hot\", \"cold\"])"
   ]
  },
  {
   "cell_type": "code",
   "execution_count": 31,
   "metadata": {},
   "outputs": [],
   "source": [
    "ss = markov.steady_state(0.0001, 100000)"
   ]
  },
  {
   "cell_type": "code",
   "execution_count": 32,
   "metadata": {},
   "outputs": [
    {
     "data": {
      "text/plain": [
       "array([ True,  True])"
      ]
     },
     "execution_count": 32,
     "metadata": {},
     "output_type": "execute_result"
    }
   ],
   "source": [
    "A @ ss == ss # Steady state found"
   ]
  },
  {
   "cell_type": "code",
   "execution_count": 33,
   "metadata": {},
   "outputs": [
    {
     "data": {
      "text/plain": [
       "array([1.0204292, 0.5102146])"
      ]
     },
     "execution_count": 33,
     "metadata": {},
     "output_type": "execute_result"
    }
   ],
   "source": [
    "ss"
   ]
  },
  {
   "cell_type": "code",
   "execution_count": 34,
   "metadata": {},
   "outputs": [
    {
     "data": {
      "text/plain": [
       "array([1.0204292, 0.5102146])"
      ]
     },
     "execution_count": 34,
     "metadata": {},
     "output_type": "execute_result"
    }
   ],
   "source": [
    "A @ ss # Cool!"
   ]
  }
 ],
 "metadata": {
  "kernelspec": {
   "display_name": "Python 3",
   "language": "python",
   "name": "python3"
  },
  "language_info": {
   "codemirror_mode": {
    "name": "ipython",
    "version": 3
   },
   "file_extension": ".py",
   "mimetype": "text/x-python",
   "name": "python",
   "nbconvert_exporter": "python",
   "pygments_lexer": "ipython3",
   "version": "3.7.4"
  }
 },
 "nbformat": 4,
 "nbformat_minor": 2
}
