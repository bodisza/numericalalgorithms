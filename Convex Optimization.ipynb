{
 "cells": [
  {
   "cell_type": "markdown",
   "metadata": {},
   "source": [
    "# Convex optimization"
   ]
  },
  {
   "cell_type": "code",
   "execution_count": 1,
   "metadata": {},
   "outputs": [],
   "source": [
    "from cvxopt import matrix, solvers"
   ]
  },
  {
   "cell_type": "code",
   "execution_count": 2,
   "metadata": {},
   "outputs": [],
   "source": [
    "c = matrix([-4., -5.])\n",
    "G = matrix([[1., -1., 0.],[2., 0., -1.]])\n",
    "h = matrix([ 3., 0., 0.])\n",
    "A = matrix([[2.],[1.]])\n",
    "b = matrix([3.])\n",
    "# Surpressing iteration output\n",
    "solvers.options['show_progress'] = False\n",
    "sol = solvers.lp(c, G, h, A, b)"
   ]
  },
  {
   "cell_type": "code",
   "execution_count": 3,
   "metadata": {},
   "outputs": [
    {
     "name": "stdout",
     "output_type": "stream",
     "text": [
      "[ 1.00e+00]\n",
      "[ 1.00e+00]\n",
      "\n"
     ]
    }
   ],
   "source": [
    "print(sol['x'])"
   ]
  },
  {
   "cell_type": "code",
   "execution_count": 4,
   "metadata": {},
   "outputs": [
    {
     "name": "stdout",
     "output_type": "stream",
     "text": [
      "-8.999999939019434\n"
     ]
    }
   ],
   "source": [
    "print(sol['primal objective'])"
   ]
  },
  {
   "cell_type": "markdown",
   "metadata": {},
   "source": [
    "### Simple convex minimization problem"
   ]
  },
  {
   "cell_type": "code",
   "execution_count": 5,
   "metadata": {},
   "outputs": [],
   "source": [
    "c = matrix([2., 1., 3.])\n",
    "G = matrix([[-1., -2., -1., 0., 0.],[-2., -10., 0., -1., 0.], [0., -3., 0., 0., -1.]])\n",
    "h = matrix([ -3., -10., 0., 0., 0.])\n",
    "# Surpressing iteration output\n",
    "solvers.options['show_progress'] = False\n",
    "sol = solvers.lp(c, G, h,)"
   ]
  },
  {
   "cell_type": "code",
   "execution_count": 6,
   "metadata": {},
   "outputs": [
    {
     "name": "stdout",
     "output_type": "stream",
     "text": [
      "[-1.15e-09]\n",
      "[ 1.50e+00]\n",
      "[ 6.95e-11]\n",
      "\n"
     ]
    }
   ],
   "source": [
    "print(sol['x'])"
   ]
  },
  {
   "cell_type": "code",
   "execution_count": 7,
   "metadata": {},
   "outputs": [
    {
     "name": "stdout",
     "output_type": "stream",
     "text": [
      "1.4999999996249478\n"
     ]
    }
   ],
   "source": [
    "print(sol['primal objective'])"
   ]
  },
  {
   "cell_type": "markdown",
   "metadata": {},
   "source": [
    "### $l_1$ minimization"
   ]
  },
  {
   "cell_type": "code",
   "execution_count": 8,
   "metadata": {},
   "outputs": [],
   "source": [
    "import numpy as np"
   ]
  },
  {
   "cell_type": "code",
   "execution_count": 9,
   "metadata": {},
   "outputs": [],
   "source": [
    "def l1Min(A, b):\n",
    "    \n",
    "    '''\n",
    "    Solves a norm-1 linear optimazation problem. \n",
    "    Accepts a matrix A and a vector b.\n",
    "    '''\n",
    "    \n",
    "    l = A.shape[1]\n",
    "    I = np.eye(l)\n",
    "    \n",
    "    c = matrix(np.block([np.ones(l), np.zeros(l)]))\n",
    "    G = matrix(np.block([[-I,I],[-I,-I]]))\n",
    "    h = matrix(np.zeros(2*l))\n",
    "    A = matrix(np.block([np.zeros_like(A), A]))\n",
    "    b = matrix(b)\n",
    "    \n",
    "    solvers.options['show_progress'] = False\n",
    "    sol = solvers.lp(c, G, h, A, b)\n",
    "    \n",
    "    return sol['x'][-l:]"
   ]
  },
  {
   "cell_type": "code",
   "execution_count": 10,
   "metadata": {},
   "outputs": [
    {
     "name": "stdout",
     "output_type": "stream",
     "text": [
      "[ 8.20e-09]\n",
      "[ 2.57e+00]\n",
      "[ 1.86e+00]\n",
      "[ 6.01e-09]\n",
      "\n"
     ]
    }
   ],
   "source": [
    "A = np.array([[1., 2., 1., 1.], [0., 3., -2., -1.]])\n",
    "b = np.array([7., 4.])\n",
    "print(l1Min(A, b))"
   ]
  },
  {
   "cell_type": "markdown",
   "metadata": {},
   "source": [
    "### A transportation problem"
   ]
  },
  {
   "cell_type": "code",
   "execution_count": 11,
   "metadata": {},
   "outputs": [],
   "source": [
    "c = matrix(np.array([4., 7., 6., 8., 8., 9.]))\n",
    "G = matrix(np.vstack((-1*np.eye(6)[:5,:], [[0.,1.,0.,1.,0.,1.], [0.,-1.,0.,-1.,0.,-1.]])))\n",
    "h = matrix(np.concatenate((np.zeros(5), [8., -8.])))\n",
    "A = matrix(np.array([[1.,1.,0.,0.,0.,0.],\n",
    "[0.,0.,1.,1.,0.,0.],\n",
    "[0.,0.,0.,0.,1.,1.],\n",
    "[1.,0.,1.,0.,1.,0.]]))\n",
    "b = matrix(np.array([7., 2., 4., 5.]))"
   ]
  },
  {
   "cell_type": "code",
   "execution_count": 12,
   "metadata": {},
   "outputs": [],
   "source": [
    "sol = solvers.lp(c, G, h, A, b)"
   ]
  },
  {
   "cell_type": "code",
   "execution_count": 13,
   "metadata": {},
   "outputs": [
    {
     "name": "stdout",
     "output_type": "stream",
     "text": [
      "[ 5.00e+00]\n",
      "[ 2.00e+00]\n",
      "[-6.63e-09]\n",
      "[ 2.00e+00]\n",
      "[-8.15e-09]\n",
      "[ 4.00e+00]\n",
      "\n"
     ]
    }
   ],
   "source": [
    "print(sol['x']) # Solution: [5, 2, 0, 2, 0, 4]"
   ]
  },
  {
   "cell_type": "code",
   "execution_count": 14,
   "metadata": {},
   "outputs": [
    {
     "name": "stdout",
     "output_type": "stream",
     "text": [
      "85.99999997707222\n"
     ]
    }
   ],
   "source": [
    "print(sol['primal objective']) # 86"
   ]
  },
  {
   "cell_type": "code",
   "execution_count": 15,
   "metadata": {},
   "outputs": [
    {
     "name": "stdout",
     "output_type": "stream",
     "text": [
      "[-1.00e+00]\n",
      "[ 1.50e+00]\n",
      "\n"
     ]
    }
   ],
   "source": [
    "Q = matrix(np.array([[4., 2.], [2., 2.]]))\n",
    "r = matrix([1., -1.])\n",
    "sol=solvers.qp(Q, r)\n",
    "print(sol['x'])"
   ]
  },
  {
   "cell_type": "code",
   "execution_count": 16,
   "metadata": {},
   "outputs": [
    {
     "name": "stdout",
     "output_type": "stream",
     "text": [
      "-1.25\n"
     ]
    }
   ],
   "source": [
    "print(sol['primal objective'])"
   ]
  },
  {
   "cell_type": "markdown",
   "metadata": {},
   "source": [
    "### Quadratic programming"
   ]
  },
  {
   "cell_type": "code",
   "execution_count": 17,
   "metadata": {},
   "outputs": [
    {
     "name": "stdout",
     "output_type": "stream",
     "text": [
      "[-1.50e+00]\n",
      "[ 1.00e+00]\n",
      "[-5.00e-01]\n",
      "\n"
     ]
    }
   ],
   "source": [
    "Q = matrix(np.array([[3., 2., 1.], [2., 4., 2.], [1., 2., 3.]]))\n",
    "r = matrix([3., 0., 1.])\n",
    "sol=solvers.qp(Q, r)\n",
    "print(sol['x'])"
   ]
  },
  {
   "cell_type": "code",
   "execution_count": 18,
   "metadata": {},
   "outputs": [
    {
     "name": "stdout",
     "output_type": "stream",
     "text": [
      "-2.5\n"
     ]
    }
   ],
   "source": [
    "print(sol['primal objective'])"
   ]
  },
  {
   "cell_type": "markdown",
   "metadata": {},
   "source": [
    "### $l_2$ minimzation"
   ]
  },
  {
   "cell_type": "code",
   "execution_count": 19,
   "metadata": {},
   "outputs": [],
   "source": [
    "def l2Min(A, b):\n",
    "    \n",
    "    l = A.shape[1]\n",
    "    \n",
    "    Q = matrix(2*np.eye(l))\n",
    "    r = matrix(np.zeros(l))\n",
    "    A = matrix(A)\n",
    "    b = matrix(b)\n",
    "    \n",
    "    sol=solvers.qp(P=Q, q=r, A=A, b=b)\n",
    "    \n",
    "    return print(sol['x'], sol['primal objective'])"
   ]
  },
  {
   "cell_type": "code",
   "execution_count": 20,
   "metadata": {},
   "outputs": [
    {
     "name": "stdout",
     "output_type": "stream",
     "text": [
      "[ 9.66e-01]\n",
      "[ 2.17e+00]\n",
      "[ 8.09e-01]\n",
      "[ 8.88e-01]\n",
      " 7.078651685393257\n"
     ]
    }
   ],
   "source": [
    "A = np.array([[1., 2., 1., 1.], [0., 3., -2., -1.]])\n",
    "b = np.array([7., 4.])\n",
    "l2Min(A, b) # ????"
   ]
  }
 ],
 "metadata": {
  "kernelspec": {
   "display_name": "Python 3",
   "language": "python",
   "name": "python3"
  },
  "language_info": {
   "codemirror_mode": {
    "name": "ipython",
    "version": 3
   },
   "file_extension": ".py",
   "mimetype": "text/x-python",
   "name": "python",
   "nbconvert_exporter": "python",
   "pygments_lexer": "ipython3",
   "version": "3.7.4"
  }
 },
 "nbformat": 4,
 "nbformat_minor": 2
}
