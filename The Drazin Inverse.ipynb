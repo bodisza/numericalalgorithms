{
 "cells": [
  {
   "cell_type": "markdown",
   "metadata": {},
   "source": [
    "# The Drazin Inverse and it's applications"
   ]
  },
  {
   "cell_type": "markdown",
   "metadata": {},
   "source": [
    "### Testing for the conditions of a Drazin inverse"
   ]
  },
  {
   "cell_type": "code",
   "execution_count": 19,
   "metadata": {},
   "outputs": [],
   "source": [
    "def drazin_tester(A, AD, k: int):\n",
    "    \n",
    "    import numpy as np\n",
    "    \n",
    "    A = np.array(A)\n",
    "    AD = np.array(AD) \n",
    "    \n",
    "    if np.allclose(np.matmul(A, AD), np.matmul(AD, A)) and \\\n",
    "     np.allclose(np.matmul(np.linalg.matrix_power(A, k+1), AD), np.linalg.matrix_power(A, k)) and \\\n",
    "     np.allclose(np.matmul(AD ,np.matmul(A, AD)), AD):\n",
    "        return True\n",
    "    else:\n",
    "        return False"
   ]
  },
  {
   "cell_type": "code",
   "execution_count": 20,
   "metadata": {},
   "outputs": [],
   "source": [
    "#Test 1\n",
    "A = [[1, 3, 0, 0], [0, 1, 3, 0], [0, 0, 1, 3], [0, 0, 0, 0]]\n",
    "AD = [[1, -3, 9, 81], [0, 1, -3, -18], [0, 0, 1, 3], [0, 0, 0, 0]]\n",
    "k = 1"
   ]
  },
  {
   "cell_type": "code",
   "execution_count": 21,
   "metadata": {},
   "outputs": [
    {
     "data": {
      "text/plain": [
       "True"
      ]
     },
     "execution_count": 21,
     "metadata": {},
     "output_type": "execute_result"
    }
   ],
   "source": [
    "drazin_tester(A, AD, k) #OK!"
   ]
  },
  {
   "cell_type": "code",
   "execution_count": 22,
   "metadata": {},
   "outputs": [],
   "source": [
    "# Test 2\n",
    "import numpy as np\n",
    "A = [[1, 1, 3], [5, 2, 6], [-2, -1, -3]]\n",
    "AD = np.zeros([3, 3])\n",
    "k = 3"
   ]
  },
  {
   "cell_type": "code",
   "execution_count": 23,
   "metadata": {},
   "outputs": [
    {
     "data": {
      "text/plain": [
       "True"
      ]
     },
     "execution_count": 23,
     "metadata": {},
     "output_type": "execute_result"
    }
   ],
   "source": [
    "drazin_tester(A, AD, k) #OK!"
   ]
  },
  {
   "cell_type": "markdown",
   "metadata": {},
   "source": [
    "### Calculating the Drazin inverse of matrices"
   ]
  },
  {
   "cell_type": "code",
   "execution_count": 24,
   "metadata": {},
   "outputs": [],
   "source": [
    "from scipy import linalg as la\n",
    "import numpy as np\n",
    "def drazin(A, tol):\n",
    "    A = np.array(A)\n",
    "    n, n = A.shape\n",
    "    Q1, S, k1 = la.schur(A, sort = lambda x: abs(x) > tol)\n",
    "    Q2, T, k2 = la.schur(A, sort = lambda x: abs(x) <= tol)\n",
    "    U = np.concatenate((S[:, :k1], T[:, :n-k1]), axis = -1)\n",
    "    Uinv = np.linalg.inv(U)\n",
    "    V = np.matmul(Uinv, np.matmul(A, U))\n",
    "    Z = np.zeros([n, n])\n",
    "    if k1 != 0:\n",
    "        Minv = np.linalg.inv(V[:k1, :k1])\n",
    "        Z[:k1, :k1] = Minv\n",
    "    return np.matmul(U, np.matmul(Z, Uinv))"
   ]
  },
  {
   "cell_type": "code",
   "execution_count": 25,
   "metadata": {},
   "outputs": [
    {
     "data": {
      "text/plain": [
       "array([[  1.,  -3.,   9.,  81.],\n",
       "       [  0.,   1.,  -3., -18.],\n",
       "       [  0.,   0.,   1.,   3.],\n",
       "       [  0.,   0.,   0.,   0.]])"
      ]
     },
     "execution_count": 25,
     "metadata": {},
     "output_type": "execute_result"
    }
   ],
   "source": [
    "A = [[1, 3, 0, 0], [0, 1, 3, 0], [0, 0, 1, 3], [0, 0, 0, 0]]\n",
    "drazin(A, 0.005)"
   ]
  },
  {
   "cell_type": "code",
   "execution_count": 26,
   "metadata": {},
   "outputs": [
    {
     "data": {
      "text/plain": [
       "array([[0., 0., 0.],\n",
       "       [0., 0., 0.],\n",
       "       [0., 0., 0.]])"
      ]
     },
     "execution_count": 26,
     "metadata": {},
     "output_type": "execute_result"
    }
   ],
   "source": [
    "A = [[1, 1, 3], [5, 2, 6], [-2, -1, -3]]\n",
    "drazin(A, 0.005)"
   ]
  },
  {
   "cell_type": "markdown",
   "metadata": {},
   "source": [
    "### Effective Resistence"
   ]
  },
  {
   "cell_type": "code",
   "execution_count": 27,
   "metadata": {},
   "outputs": [],
   "source": [
    "import networkx as nx\n",
    "\n",
    "def drazin_resistance(A):\n",
    "    \n",
    "    A = np.array(A)\n",
    "    n, n = A.shape\n",
    "    I = np.eye(n)\n",
    "    \n",
    "    # Calculate resistence for each node\n",
    "    R = np.zeros_like(A, dtype = float)\n",
    "    for i in range(n):\n",
    "        for j in range(n):\n",
    "            if i != j:\n",
    "                G = nx.from_numpy_array(A)\n",
    "                L = nx.laplacian_matrix(G).toarray()\n",
    "                L[:, j] = I[:, j]\n",
    "                R[i, j] = drazin(L, 0.05)[i, i]\n",
    "            else:\n",
    "                pass\n",
    "    \n",
    "    return R"
   ]
  },
  {
   "cell_type": "code",
   "execution_count": 28,
   "metadata": {},
   "outputs": [
    {
     "data": {
      "text/plain": [
       "array([[0., 1., 2., 3.],\n",
       "       [1., 0., 1., 2.],\n",
       "       [2., 1., 0., 1.],\n",
       "       [3., 2., 1., 0.]])"
      ]
     },
     "execution_count": 28,
     "metadata": {},
     "output_type": "execute_result"
    }
   ],
   "source": [
    "# Connected line with 4 nodes\n",
    "A = [[0, 1, 0, 0], [1, 0, 1, 0], [0, 1, 0, 1], [0, 0, 0, 1]]\n",
    "drazin_resistance(A)"
   ]
  },
  {
   "cell_type": "code",
   "execution_count": 29,
   "metadata": {},
   "outputs": [
    {
     "data": {
      "text/plain": [
       "array([[0., 1.],\n",
       "       [1., 0.]])"
      ]
     },
     "execution_count": 29,
     "metadata": {},
     "output_type": "execute_result"
    }
   ],
   "source": [
    "# Connected line with 2 nodes\n",
    "A = [[0, 1], [1, 0]]\n",
    "drazin_resistance(A)"
   ]
  },
  {
   "cell_type": "code",
   "execution_count": 30,
   "metadata": {},
   "outputs": [
    {
     "data": {
      "text/plain": [
       "array([[0.        , 0.66666667, 0.66666667],\n",
       "       [0.66666667, 0.        , 0.66666667],\n",
       "       [0.66666667, 0.66666667, 0.        ]])"
      ]
     },
     "execution_count": 30,
     "metadata": {},
     "output_type": "execute_result"
    }
   ],
   "source": [
    "# Connected triangle\n",
    "A = [[0, 1, 1], [1, 0, 1], [0, 1, 1]]\n",
    "drazin_resistance(A)"
   ]
  },
  {
   "cell_type": "code",
   "execution_count": 31,
   "metadata": {},
   "outputs": [
    {
     "data": {
      "text/plain": [
       "array([[0.        , 0.33333333],\n",
       "       [0.33333333, 0.        ]])"
      ]
     },
     "execution_count": 31,
     "metadata": {},
     "output_type": "execute_result"
    }
   ],
   "source": [
    "# Circle with one connection in the middle\n",
    "A = [[0, 3], [3, 0]]\n",
    "drazin_resistance(A)"
   ]
  },
  {
   "cell_type": "code",
   "execution_count": 32,
   "metadata": {},
   "outputs": [
    {
     "data": {
      "text/plain": [
       "array([[0. , 0.5],\n",
       "       [0.5, 0. ]])"
      ]
     },
     "execution_count": 32,
     "metadata": {},
     "output_type": "execute_result"
    }
   ],
   "source": [
    "# Circle\n",
    "A = [[0, 2], [2, 0]]\n",
    "drazin_resistance(A)"
   ]
  },
  {
   "cell_type": "code",
   "execution_count": 33,
   "metadata": {},
   "outputs": [
    {
     "data": {
      "text/plain": [
       "array([[0.  , 0.25],\n",
       "       [0.25, 0.  ]])"
      ]
     },
     "execution_count": 33,
     "metadata": {},
     "output_type": "execute_result"
    }
   ],
   "source": [
    "# Circle with two connection in the middle\n",
    "A = [[0, 4], [4, 0]]\n",
    "drazin_resistance(A)"
   ]
  },
  {
   "cell_type": "markdown",
   "metadata": {},
   "source": [
    "### Link prediction (finding the least resistence)"
   ]
  },
  {
   "cell_type": "code",
   "execution_count": 34,
   "metadata": {},
   "outputs": [],
   "source": [
    "class LinkPredictor:\n",
    "    def __init__(self, file):\n",
    "        \n",
    "        import pandas as pd\n",
    "        nw = pd.read_csv(file, header = None)\n",
    "        \n",
    "        # List of names\n",
    "        names = sorted(list(dict.fromkeys(list(nw[0].unique()) + list(nw[1].unique()))))\n",
    "        \n",
    "        # Creating adjency matrix\n",
    "        network1 = []\n",
    "        for i in names:\n",
    "            row = [0]*len(names)\n",
    "            for j in range(len(nw)):\n",
    "                if i == nw.iloc[j, 0]:\n",
    "                    row[names.index(nw.iloc[j, 1])] = 1\n",
    "                else:\n",
    "                    pass\n",
    "            network1 += ((row), )\n",
    "        \n",
    "        network2 = []\n",
    "        for k in names:\n",
    "            row = [0]*len(names)\n",
    "            for l in range(len(nw)):\n",
    "                if k == nw.iloc[l, 1]:\n",
    "                    row[names.index(nw.iloc[l, 0])] = 1\n",
    "                else:\n",
    "                    pass\n",
    "            network2 += ((row), )\n",
    "        \n",
    "        network = np.array(network1) + np.array(network2)\n",
    "        adj_mat = np.array(network)\n",
    "        \n",
    "        # Creating the effective resistence matrix\n",
    "        res_mat = drazin_resistance(adj_mat)\n",
    "        \n",
    "        self.names = names\n",
    "        self.adj_mat = adj_mat\n",
    "        self.res_mat = res_mat"
   ]
  },
  {
   "cell_type": "code",
   "execution_count": 35,
   "metadata": {},
   "outputs": [],
   "source": [
    "social_network = LinkPredictor('social_network.csv') #From https://en.wikipedia.org/wiki/Zachary%27s_karate_club"
   ]
  },
  {
   "cell_type": "code",
   "execution_count": 36,
   "metadata": {},
   "outputs": [
    {
     "data": {
      "text/plain": [
       "['Abigail',\n",
       " 'Alan',\n",
       " 'Alexander',\n",
       " 'Anna',\n",
       " 'Brandon',\n",
       " 'Carol',\n",
       " 'Charles',\n",
       " 'Christopher',\n",
       " 'Colin',\n",
       " 'Connor',\n",
       " 'Emily',\n",
       " 'Eric',\n",
       " 'Evan',\n",
       " 'Jake',\n",
       " 'Jane',\n",
       " 'John',\n",
       " 'Madeleine',\n",
       " 'Mary',\n",
       " 'Max',\n",
       " 'Melanie',\n",
       " 'Oliver',\n",
       " 'Paul',\n",
       " 'Penelope',\n",
       " 'Piers',\n",
       " 'Ruth',\n",
       " 'Sally',\n",
       " 'Sonia',\n",
       " 'Stephanie',\n",
       " 'Stephen',\n",
       " 'Theresa',\n",
       " 'Thomas',\n",
       " 'Tracey',\n",
       " 'Trevor']"
      ]
     },
     "execution_count": 36,
     "metadata": {},
     "output_type": "execute_result"
    }
   ],
   "source": [
    "social_network.names"
   ]
  },
  {
   "cell_type": "code",
   "execution_count": 37,
   "metadata": {},
   "outputs": [
    {
     "data": {
      "text/plain": [
       "array([[0, 0, 0, ..., 0, 0, 0],\n",
       "       [0, 0, 0, ..., 0, 0, 0],\n",
       "       [0, 0, 0, ..., 0, 0, 0],\n",
       "       ...,\n",
       "       [0, 0, 0, ..., 0, 0, 0],\n",
       "       [0, 0, 0, ..., 0, 0, 0],\n",
       "       [0, 0, 0, ..., 0, 0, 0]])"
      ]
     },
     "execution_count": 37,
     "metadata": {},
     "output_type": "execute_result"
    }
   ],
   "source": [
    "social_network.adj_mat"
   ]
  },
  {
   "cell_type": "code",
   "execution_count": 38,
   "metadata": {},
   "outputs": [
    {
     "data": {
      "text/plain": [
       "array([[0.        , 0.70030688, 0.76301021, ..., 0.4795326 , 0.39108078,\n",
       "        0.65489609],\n",
       "       [0.70030688, 0.        , 1.06076045, ..., 0.80050616, 0.74156341,\n",
       "        1.12822586],\n",
       "       [0.76301021, 1.06076045, 0.        , ..., 0.82885358, 0.74028882,\n",
       "        1.18497957],\n",
       "       ...,\n",
       "       [0.4795326 , 0.80050616, 0.82885358, ..., 0.        , 0.45481592,\n",
       "        0.88646385],\n",
       "       [0.39108078, 0.74156341, 0.74028882, ..., 0.45481592, 0.        ,\n",
       "        0.77032698],\n",
       "       [0.65489609, 1.12822586, 1.18497957, ..., 0.88646385, 0.77032698,\n",
       "        0.        ]])"
      ]
     },
     "execution_count": 38,
     "metadata": {},
     "output_type": "execute_result"
    }
   ],
   "source": [
    "social_network.res_mat"
   ]
  },
  {
   "cell_type": "markdown",
   "metadata": {},
   "source": [
    "### Problem 6"
   ]
  },
  {
   "cell_type": "code",
   "execution_count": 39,
   "metadata": {},
   "outputs": [],
   "source": [
    "class LinkPredictor:\n",
    "    def __init__(self, file):\n",
    "        \n",
    "        import pandas as pd\n",
    "        nw = pd.read_csv(file, header = None)\n",
    "        \n",
    "        # List of names\n",
    "        names = sorted(list(dict.fromkeys(list(nw[0].unique()) + list(nw[1].unique()))))\n",
    "        \n",
    "        # Creating adjency matrix\n",
    "        network1 = []\n",
    "        for i in names:\n",
    "            row = [0]*len(names)\n",
    "            for j in range(len(nw)):\n",
    "                if i == nw.iloc[j, 0]:\n",
    "                    row[names.index(nw.iloc[j, 1])] = 1\n",
    "                else:\n",
    "                    pass\n",
    "            network1 += ((row), )\n",
    "        \n",
    "        network2 = []\n",
    "        for k in names:\n",
    "            row = [0]*len(names)\n",
    "            for l in range(len(nw)):\n",
    "                if k == nw.iloc[l, 1]:\n",
    "                    row[names.index(nw.iloc[l, 0])] = 1\n",
    "                else:\n",
    "                    pass\n",
    "            network2 += ((row), )\n",
    "        \n",
    "        network = np.array(network1) + np.array(network2)\n",
    "        adj_mat = np.array(network)\n",
    "        \n",
    "        # Creating the effective resistence matrix\n",
    "        res_mat = drazin_resistance(adj_mat)\n",
    "        \n",
    "        self.names = names\n",
    "        self.adj_mat = adj_mat\n",
    "        self.res_mat = res_mat\n",
    "        \n",
    "    def predict_link(self, node = None):\n",
    "        \n",
    "        if node is not None and node in self.names:\n",
    "            An = -(self.adj_mat - 1)\n",
    "            Mpot = An*self.res_mat\n",
    "            Mpot[Mpot == 0] = np.inf\n",
    "            index = self.names.index(node)\n",
    "            min_val = np.min(Mpot[:, index])\n",
    "            coords = np.where(Mpot==min_val)\n",
    "            return (self.names[int(coords[0])], self.names[int(coords[1])])\n",
    "            \n",
    "        elif node is None:\n",
    "            An = -(self.adj_mat - 1)\n",
    "            Mpot = An*self.res_mat\n",
    "            Mpot[Mpot == 0] = np.inf\n",
    "            min_val = np.min(Mpot)\n",
    "            coords = np.where(Mpot==min_val)\n",
    "            return (self.names[int(coords[0])], self.names[int(coords[1])])\n",
    "        else:\n",
    "            raise ValueError(\"The specified node is not in the network!\")\n",
    "            \n",
    "    def add_link(self, name1: str, name2: str):\n",
    "        \n",
    "        if name1 not in self.names or name2 not in self.names:\n",
    "            raise ValueError('Please specify names that can already be found in the network!')\n",
    "        \n",
    "        if name1 == name2:\n",
    "            raise ValueError('Connection cannot exist between the person and himself/herself.')\n",
    "            \n",
    "        if self.adj_mat[self.names.index(name1), self.names.index(name2)] == 0:\n",
    "            self.adj_mat[self.names.index(name1), self.names.index(name2)] = 1\n",
    "            self.adj_mat[self.names.index(name2), self.names.index(name1)] = 1\n",
    "            self.res_mat = drazin_resistance(self.adj_mat)\n",
    "        else:\n",
    "            raise ValueError('The connection between these nodes is already exists!')"
   ]
  },
  {
   "cell_type": "code",
   "execution_count": 40,
   "metadata": {},
   "outputs": [],
   "source": [
    "social_network = LinkPredictor('social_network.csv')"
   ]
  },
  {
   "cell_type": "code",
   "execution_count": 41,
   "metadata": {},
   "outputs": [
    {
     "data": {
      "text/plain": [
       "('Emily', 'Connor')"
      ]
     },
     "execution_count": 41,
     "metadata": {},
     "output_type": "execute_result"
    }
   ],
   "source": [
    "social_network.predict_link() # I think it is OK!"
   ]
  },
  {
   "cell_type": "code",
   "execution_count": 42,
   "metadata": {},
   "outputs": [
    {
     "data": {
      "text/plain": [
       "('Carol', 'Melanie')"
      ]
     },
     "execution_count": 42,
     "metadata": {},
     "output_type": "execute_result"
    }
   ],
   "source": [
    "social_network.predict_link('Melanie') #OK!"
   ]
  },
  {
   "cell_type": "code",
   "execution_count": 43,
   "metadata": {},
   "outputs": [
    {
     "data": {
      "text/plain": [
       "('Sonia', 'Alan')"
      ]
     },
     "execution_count": 43,
     "metadata": {},
     "output_type": "execute_result"
    }
   ],
   "source": [
    "social_network.predict_link('Alan') #OK!"
   ]
  },
  {
   "cell_type": "code",
   "execution_count": 44,
   "metadata": {},
   "outputs": [],
   "source": [
    "social_network.add_link('Abigail', 'Alan')"
   ]
  },
  {
   "cell_type": "code",
   "execution_count": 45,
   "metadata": {},
   "outputs": [
    {
     "ename": "ValueError",
     "evalue": "Connection cannot exist between the person and himself/herself.",
     "output_type": "error",
     "traceback": [
      "\u001b[1;31m---------------------------------------------------------------------------\u001b[0m",
      "\u001b[1;31mValueError\u001b[0m                                Traceback (most recent call last)",
      "\u001b[1;32m<ipython-input-45-7aba3df8627b>\u001b[0m in \u001b[0;36m<module>\u001b[1;34m\u001b[0m\n\u001b[1;32m----> 1\u001b[1;33m \u001b[0msocial_network\u001b[0m\u001b[1;33m.\u001b[0m\u001b[0madd_link\u001b[0m\u001b[1;33m(\u001b[0m\u001b[1;34m'Alan'\u001b[0m\u001b[1;33m,\u001b[0m \u001b[1;34m'Alan'\u001b[0m\u001b[1;33m)\u001b[0m \u001b[1;31m# It is good! Someone cannot be linket to him/herself!\u001b[0m\u001b[1;33m\u001b[0m\u001b[1;33m\u001b[0m\u001b[0m\n\u001b[0m",
      "\u001b[1;32m<ipython-input-39-edee97eabfce>\u001b[0m in \u001b[0;36madd_link\u001b[1;34m(self, name1, name2)\u001b[0m\n\u001b[0;32m     66\u001b[0m \u001b[1;33m\u001b[0m\u001b[0m\n\u001b[0;32m     67\u001b[0m         \u001b[1;32mif\u001b[0m \u001b[0mname1\u001b[0m \u001b[1;33m==\u001b[0m \u001b[0mname2\u001b[0m\u001b[1;33m:\u001b[0m\u001b[1;33m\u001b[0m\u001b[1;33m\u001b[0m\u001b[0m\n\u001b[1;32m---> 68\u001b[1;33m             \u001b[1;32mraise\u001b[0m \u001b[0mValueError\u001b[0m\u001b[1;33m(\u001b[0m\u001b[1;34m'Connection cannot exist between the person and himself/herself.'\u001b[0m\u001b[1;33m)\u001b[0m\u001b[1;33m\u001b[0m\u001b[1;33m\u001b[0m\u001b[0m\n\u001b[0m\u001b[0;32m     69\u001b[0m \u001b[1;33m\u001b[0m\u001b[0m\n\u001b[0;32m     70\u001b[0m         \u001b[1;32mif\u001b[0m \u001b[0mself\u001b[0m\u001b[1;33m.\u001b[0m\u001b[0madj_mat\u001b[0m\u001b[1;33m[\u001b[0m\u001b[0mself\u001b[0m\u001b[1;33m.\u001b[0m\u001b[0mnames\u001b[0m\u001b[1;33m.\u001b[0m\u001b[0mindex\u001b[0m\u001b[1;33m(\u001b[0m\u001b[0mname1\u001b[0m\u001b[1;33m)\u001b[0m\u001b[1;33m,\u001b[0m \u001b[0mself\u001b[0m\u001b[1;33m.\u001b[0m\u001b[0mnames\u001b[0m\u001b[1;33m.\u001b[0m\u001b[0mindex\u001b[0m\u001b[1;33m(\u001b[0m\u001b[0mname2\u001b[0m\u001b[1;33m)\u001b[0m\u001b[1;33m]\u001b[0m \u001b[1;33m==\u001b[0m \u001b[1;36m0\u001b[0m\u001b[1;33m:\u001b[0m\u001b[1;33m\u001b[0m\u001b[1;33m\u001b[0m\u001b[0m\n",
      "\u001b[1;31mValueError\u001b[0m: Connection cannot exist between the person and himself/herself."
     ]
    }
   ],
   "source": [
    "social_network.add_link('Alan', 'Alan') # It is good! Someone cannot be linket to him/herself!"
   ]
  }
 ],
 "metadata": {
  "kernelspec": {
   "display_name": "Python 3",
   "language": "python",
   "name": "python3"
  },
  "language_info": {
   "codemirror_mode": {
    "name": "ipython",
    "version": 3
   },
   "file_extension": ".py",
   "mimetype": "text/x-python",
   "name": "python",
   "nbconvert_exporter": "python",
   "pygments_lexer": "ipython3",
   "version": "3.7.4"
  }
 },
 "nbformat": 4,
 "nbformat_minor": 2
}
