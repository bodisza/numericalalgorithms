{
 "cells": [
  {
   "cell_type": "markdown",
   "metadata": {},
   "source": [
    "# Differentation"
   ]
  },
  {
   "cell_type": "markdown",
   "metadata": {},
   "source": [
    "### Symbolic Differentation"
   ]
  },
  {
   "cell_type": "code",
   "execution_count": 1,
   "metadata": {},
   "outputs": [],
   "source": [
    "import sympy as sy"
   ]
  },
  {
   "cell_type": "code",
   "execution_count": 2,
   "metadata": {},
   "outputs": [],
   "source": [
    "x = sy.symbols('x')"
   ]
  },
  {
   "cell_type": "code",
   "execution_count": 3,
   "metadata": {},
   "outputs": [
    {
     "data": {
      "text/latex": [
       "$\\displaystyle 3 x^{2} + 1$"
      ],
      "text/plain": [
       "3*x**2 + 1"
      ]
     },
     "execution_count": 3,
     "metadata": {},
     "output_type": "execute_result"
    }
   ],
   "source": [
    "sy.diff(x**3 + x, x) # differentiate the function respect to x"
   ]
  },
  {
   "cell_type": "markdown",
   "metadata": {},
   "source": [
    "Problem 1: Derivate $f(x) = (\\sin{(x)} + 1)^{\\sin({\\cos{(x)}})} $ respect to x."
   ]
  },
  {
   "cell_type": "code",
   "execution_count": 4,
   "metadata": {},
   "outputs": [],
   "source": [
    "x = sy.symbols('x')"
   ]
  },
  {
   "cell_type": "code",
   "execution_count": 5,
   "metadata": {},
   "outputs": [],
   "source": [
    "f_diff = sy.diff((sy.sin(x) + 1)**(sy.sin(sy.cos(x))), x)"
   ]
  },
  {
   "cell_type": "code",
   "execution_count": 6,
   "metadata": {},
   "outputs": [],
   "source": [
    "import numpy"
   ]
  },
  {
   "cell_type": "code",
   "execution_count": 7,
   "metadata": {},
   "outputs": [],
   "source": [
    "intval = numpy.linspace(-numpy.pi, numpy.pi, 1000)"
   ]
  },
  {
   "cell_type": "code",
   "execution_count": 8,
   "metadata": {},
   "outputs": [],
   "source": [
    "f_d = sy.lambdify(x, f_diff, \"numpy\") #defining a function that gives back the values for each element in the interval"
   ]
  },
  {
   "cell_type": "code",
   "execution_count": 9,
   "metadata": {},
   "outputs": [],
   "source": [
    "from matplotlib import pyplot as plt"
   ]
  },
  {
   "cell_type": "code",
   "execution_count": 10,
   "metadata": {},
   "outputs": [
    {
     "data": {
      "image/png": "[encoded data removed]",
      "text/plain": [
       "<Figure size 432x288 with 1 Axes>"
      ]
     },
     "metadata": {
      "needs_background": "light"
     },
     "output_type": "display_data"
    }
   ],
   "source": [
    "fig, ax = plt.subplots()\n",
    "\n",
    "ax = plt.gca()\n",
    "ax.spines[\"bottom\"].set_position(\"zero\")\n",
    "ax.plot(intval, f_d(intval))\n",
    "plt.xlabel(\"x\")\n",
    "plt.ylabel(\"f'(x)\")\n",
    "plt.title(\" Plot of f'(x) on the interval [-π, π] \")\n",
    "\n",
    "plt.show()"
   ]
  },
  {
   "cell_type": "markdown",
   "metadata": {},
   "source": [
    "### Differentation Software (Autograd)"
   ]
  },
  {
   "cell_type": "code",
   "execution_count": 11,
   "metadata": {},
   "outputs": [],
   "source": [
    "from autograd import numpy as anp"
   ]
  },
  {
   "cell_type": "code",
   "execution_count": 12,
   "metadata": {},
   "outputs": [],
   "source": [
    "from autograd import grad"
   ]
  },
  {
   "cell_type": "code",
   "execution_count": 13,
   "metadata": {},
   "outputs": [],
   "source": [
    "g = lambda x: anp.exp(anp.sin(anp.cos(x)))"
   ]
  },
  {
   "cell_type": "code",
   "execution_count": 14,
   "metadata": {},
   "outputs": [],
   "source": [
    "dg = grad(g)"
   ]
  },
  {
   "cell_type": "code",
   "execution_count": 15,
   "metadata": {},
   "outputs": [
    {
     "data": {
      "text/plain": [
       "-1.2069777039799139"
      ]
     },
     "execution_count": 15,
     "metadata": {},
     "output_type": "execute_result"
    }
   ],
   "source": [
    "dg(1.0)"
   ]
  },
  {
   "cell_type": "code",
   "execution_count": 16,
   "metadata": {},
   "outputs": [],
   "source": [
    "from autograd import elementwise_grad"
   ]
  },
  {
   "cell_type": "code",
   "execution_count": 17,
   "metadata": {},
   "outputs": [],
   "source": [
    "pts = anp.array([1.0, 2.0, 3.0], dtype = anp.float)"
   ]
  },
  {
   "cell_type": "code",
   "execution_count": 18,
   "metadata": {},
   "outputs": [],
   "source": [
    "dg = elementwise_grad(g)"
   ]
  },
  {
   "cell_type": "code",
   "execution_count": 19,
   "metadata": {},
   "outputs": [
    {
     "data": {
      "text/plain": [
       "array([-1.2069777 , -0.55514144, -0.03356146])"
      ]
     },
     "execution_count": 19,
     "metadata": {},
     "output_type": "execute_result"
    }
   ],
   "source": [
    "dg(pts)"
   ]
  },
  {
   "cell_type": "code",
   "execution_count": 20,
   "metadata": {},
   "outputs": [],
   "source": [
    "from sympy import factorial"
   ]
  },
  {
   "cell_type": "code",
   "execution_count": 21,
   "metadata": {},
   "outputs": [],
   "source": [
    "def taylor_exp(x, tol=.0001):\n",
    "    \"\"\" \n",
    "    Compute the Taylor series of e^x with terms greater than tol. \n",
    "    \"\"\"\n",
    "    result, i, term = 0, 0, x\n",
    "    while anp.abs(term) > tol:\n",
    "        term = x**i / int(factorial(i))\n",
    "        result, i = result + term, i + 1\n",
    "    return result"
   ]
  },
  {
   "cell_type": "code",
   "execution_count": 22,
   "metadata": {},
   "outputs": [],
   "source": [
    "d_exp = grad(taylor_exp) #differentiating this series!"
   ]
  },
  {
   "cell_type": "code",
   "execution_count": 23,
   "metadata": {},
   "outputs": [
    {
     "name": "stdout",
     "output_type": "stream",
     "text": [
      "7.266666666666667 7.389046015712682\n"
     ]
    }
   ],
   "source": [
    "print(d_exp(2.0, .1), d_exp(2.0, .00001))"
   ]
  },
  {
   "cell_type": "markdown",
   "metadata": {},
   "source": [
    "**Chebysev Polynomials** -> $T_0(x) = 1, T_1(x) = x, T_n(x) = 2 n T_{n-1}(x) - T_{n-2}(x) $"
   ]
  },
  {
   "cell_type": "code",
   "execution_count": 24,
   "metadata": {},
   "outputs": [],
   "source": [
    "def chebysev_pol(x, n):\n",
    "    \n",
    "    import autograd.numpy as anp\n",
    "  \n",
    "    i = 1\n",
    "    T = anp.zeros_like(x)\n",
    "\n",
    "    while n >= i:\n",
    "\n",
    "        T_2, T_1 = anp.repeat(1, len(x)), anp.array(x)\n",
    "        T = anp.subtract(anp.multiply(2, anp.multiply(i, T_1)), T_2)\n",
    "        T_2, T_1, i = T_1, T, i + 1\n",
    "\n",
    "    return T"
   ]
  },
  {
   "cell_type": "code",
   "execution_count": 25,
   "metadata": {},
   "outputs": [
    {
     "data": {
      "text/plain": [
       "array([19, 39, 59])"
      ]
     },
     "execution_count": 25,
     "metadata": {},
     "output_type": "execute_result"
    }
   ],
   "source": [
    "chebysev_pol(anp.array([1, 2, 3]), 10)"
   ]
  },
  {
   "cell_type": "code",
   "execution_count": 26,
   "metadata": {},
   "outputs": [],
   "source": [
    "x = anp.linspace(-1, 1, 1000)"
   ]
  },
  {
   "cell_type": "code",
   "execution_count": 27,
   "metadata": {},
   "outputs": [
    {
     "data": {
      "text/plain": [
       "array([-3.00000000e+00, -2.99599600e+00, -2.99199199e+00, -2.98798799e+00,\n",
       "       -2.98398398e+00, -2.97997998e+00, -2.97597598e+00, -2.97197197e+00,\n",
       "       -2.96796797e+00, -2.96396396e+00, -2.95995996e+00, -2.95595596e+00,\n",
       "       -2.95195195e+00, -2.94794795e+00, -2.94394394e+00, -2.93993994e+00,\n",
       "       -2.93593594e+00, -2.93193193e+00, -2.92792793e+00, -2.92392392e+00,\n",
       "       -2.91991992e+00, -2.91591592e+00, -2.91191191e+00, -2.90790791e+00,\n",
       "       -2.90390390e+00, -2.89989990e+00, -2.89589590e+00, -2.89189189e+00,\n",
       "       -2.88788789e+00, -2.88388388e+00, -2.87987988e+00, -2.87587588e+00,\n",
       "       -2.87187187e+00, -2.86786787e+00, -2.86386386e+00, -2.85985986e+00,\n",
       "       -2.85585586e+00, -2.85185185e+00, -2.84784785e+00, -2.84384384e+00,\n",
       "       -2.83983984e+00, -2.83583584e+00, -2.83183183e+00, -2.82782783e+00,\n",
       "       -2.82382382e+00, -2.81981982e+00, -2.81581582e+00, -2.81181181e+00,\n",
       "       -2.80780781e+00, -2.80380380e+00, -2.79979980e+00, -2.79579580e+00,\n",
       "       -2.79179179e+00, -2.78778779e+00, -2.78378378e+00, -2.77977978e+00,\n",
       "       -2.77577578e+00, -2.77177177e+00, -2.76776777e+00, -2.76376376e+00,\n",
       "       -2.75975976e+00, -2.75575576e+00, -2.75175175e+00, -2.74774775e+00,\n",
       "       -2.74374374e+00, -2.73973974e+00, -2.73573574e+00, -2.73173173e+00,\n",
       "       -2.72772773e+00, -2.72372372e+00, -2.71971972e+00, -2.71571572e+00,\n",
       "       -2.71171171e+00, -2.70770771e+00, -2.70370370e+00, -2.69969970e+00,\n",
       "       -2.69569570e+00, -2.69169169e+00, -2.68768769e+00, -2.68368368e+00,\n",
       "       -2.67967968e+00, -2.67567568e+00, -2.67167167e+00, -2.66766767e+00,\n",
       "       -2.66366366e+00, -2.65965966e+00, -2.65565566e+00, -2.65165165e+00,\n",
       "       -2.64764765e+00, -2.64364364e+00, -2.63963964e+00, -2.63563564e+00,\n",
       "       -2.63163163e+00, -2.62762763e+00, -2.62362362e+00, -2.61961962e+00,\n",
       "       -2.61561562e+00, -2.61161161e+00, -2.60760761e+00, -2.60360360e+00,\n",
       "       -2.59959960e+00, -2.59559560e+00, -2.59159159e+00, -2.58758759e+00,\n",
       "       -2.58358358e+00, -2.57957958e+00, -2.57557558e+00, -2.57157157e+00,\n",
       "       -2.56756757e+00, -2.56356356e+00, -2.55955956e+00, -2.55555556e+00,\n",
       "       -2.55155155e+00, -2.54754755e+00, -2.54354354e+00, -2.53953954e+00,\n",
       "       -2.53553554e+00, -2.53153153e+00, -2.52752753e+00, -2.52352352e+00,\n",
       "       -2.51951952e+00, -2.51551552e+00, -2.51151151e+00, -2.50750751e+00,\n",
       "       -2.50350350e+00, -2.49949950e+00, -2.49549550e+00, -2.49149149e+00,\n",
       "       -2.48748749e+00, -2.48348348e+00, -2.47947948e+00, -2.47547548e+00,\n",
       "       -2.47147147e+00, -2.46746747e+00, -2.46346346e+00, -2.45945946e+00,\n",
       "       -2.45545546e+00, -2.45145145e+00, -2.44744745e+00, -2.44344344e+00,\n",
       "       -2.43943944e+00, -2.43543544e+00, -2.43143143e+00, -2.42742743e+00,\n",
       "       -2.42342342e+00, -2.41941942e+00, -2.41541542e+00, -2.41141141e+00,\n",
       "       -2.40740741e+00, -2.40340340e+00, -2.39939940e+00, -2.39539540e+00,\n",
       "       -2.39139139e+00, -2.38738739e+00, -2.38338338e+00, -2.37937938e+00,\n",
       "       -2.37537538e+00, -2.37137137e+00, -2.36736737e+00, -2.36336336e+00,\n",
       "       -2.35935936e+00, -2.35535536e+00, -2.35135135e+00, -2.34734735e+00,\n",
       "       -2.34334334e+00, -2.33933934e+00, -2.33533534e+00, -2.33133133e+00,\n",
       "       -2.32732733e+00, -2.32332332e+00, -2.31931932e+00, -2.31531532e+00,\n",
       "       -2.31131131e+00, -2.30730731e+00, -2.30330330e+00, -2.29929930e+00,\n",
       "       -2.29529530e+00, -2.29129129e+00, -2.28728729e+00, -2.28328328e+00,\n",
       "       -2.27927928e+00, -2.27527528e+00, -2.27127127e+00, -2.26726727e+00,\n",
       "       -2.26326326e+00, -2.25925926e+00, -2.25525526e+00, -2.25125125e+00,\n",
       "       -2.24724725e+00, -2.24324324e+00, -2.23923924e+00, -2.23523524e+00,\n",
       "       -2.23123123e+00, -2.22722723e+00, -2.22322322e+00, -2.21921922e+00,\n",
       "       -2.21521522e+00, -2.21121121e+00, -2.20720721e+00, -2.20320320e+00,\n",
       "       -2.19919920e+00, -2.19519520e+00, -2.19119119e+00, -2.18718719e+00,\n",
       "       -2.18318318e+00, -2.17917918e+00, -2.17517518e+00, -2.17117117e+00,\n",
       "       -2.16716717e+00, -2.16316316e+00, -2.15915916e+00, -2.15515516e+00,\n",
       "       -2.15115115e+00, -2.14714715e+00, -2.14314314e+00, -2.13913914e+00,\n",
       "       -2.13513514e+00, -2.13113113e+00, -2.12712713e+00, -2.12312312e+00,\n",
       "       -2.11911912e+00, -2.11511512e+00, -2.11111111e+00, -2.10710711e+00,\n",
       "       -2.10310310e+00, -2.09909910e+00, -2.09509510e+00, -2.09109109e+00,\n",
       "       -2.08708709e+00, -2.08308308e+00, -2.07907908e+00, -2.07507508e+00,\n",
       "       -2.07107107e+00, -2.06706707e+00, -2.06306306e+00, -2.05905906e+00,\n",
       "       -2.05505506e+00, -2.05105105e+00, -2.04704705e+00, -2.04304304e+00,\n",
       "       -2.03903904e+00, -2.03503504e+00, -2.03103103e+00, -2.02702703e+00,\n",
       "       -2.02302302e+00, -2.01901902e+00, -2.01501502e+00, -2.01101101e+00,\n",
       "       -2.00700701e+00, -2.00300300e+00, -1.99899900e+00, -1.99499499e+00,\n",
       "       -1.99099099e+00, -1.98698699e+00, -1.98298298e+00, -1.97897898e+00,\n",
       "       -1.97497497e+00, -1.97097097e+00, -1.96696697e+00, -1.96296296e+00,\n",
       "       -1.95895896e+00, -1.95495495e+00, -1.95095095e+00, -1.94694695e+00,\n",
       "       -1.94294294e+00, -1.93893894e+00, -1.93493493e+00, -1.93093093e+00,\n",
       "       -1.92692693e+00, -1.92292292e+00, -1.91891892e+00, -1.91491491e+00,\n",
       "       -1.91091091e+00, -1.90690691e+00, -1.90290290e+00, -1.89889890e+00,\n",
       "       -1.89489489e+00, -1.89089089e+00, -1.88688689e+00, -1.88288288e+00,\n",
       "       -1.87887888e+00, -1.87487487e+00, -1.87087087e+00, -1.86686687e+00,\n",
       "       -1.86286286e+00, -1.85885886e+00, -1.85485485e+00, -1.85085085e+00,\n",
       "       -1.84684685e+00, -1.84284284e+00, -1.83883884e+00, -1.83483483e+00,\n",
       "       -1.83083083e+00, -1.82682683e+00, -1.82282282e+00, -1.81881882e+00,\n",
       "       -1.81481481e+00, -1.81081081e+00, -1.80680681e+00, -1.80280280e+00,\n",
       "       -1.79879880e+00, -1.79479479e+00, -1.79079079e+00, -1.78678679e+00,\n",
       "       -1.78278278e+00, -1.77877878e+00, -1.77477477e+00, -1.77077077e+00,\n",
       "       -1.76676677e+00, -1.76276276e+00, -1.75875876e+00, -1.75475475e+00,\n",
       "       -1.75075075e+00, -1.74674675e+00, -1.74274274e+00, -1.73873874e+00,\n",
       "       -1.73473473e+00, -1.73073073e+00, -1.72672673e+00, -1.72272272e+00,\n",
       "       -1.71871872e+00, -1.71471471e+00, -1.71071071e+00, -1.70670671e+00,\n",
       "       -1.70270270e+00, -1.69869870e+00, -1.69469469e+00, -1.69069069e+00,\n",
       "       -1.68668669e+00, -1.68268268e+00, -1.67867868e+00, -1.67467467e+00,\n",
       "       -1.67067067e+00, -1.66666667e+00, -1.66266266e+00, -1.65865866e+00,\n",
       "       -1.65465465e+00, -1.65065065e+00, -1.64664665e+00, -1.64264264e+00,\n",
       "       -1.63863864e+00, -1.63463463e+00, -1.63063063e+00, -1.62662663e+00,\n",
       "       -1.62262262e+00, -1.61861862e+00, -1.61461461e+00, -1.61061061e+00,\n",
       "       -1.60660661e+00, -1.60260260e+00, -1.59859860e+00, -1.59459459e+00,\n",
       "       -1.59059059e+00, -1.58658659e+00, -1.58258258e+00, -1.57857858e+00,\n",
       "       -1.57457457e+00, -1.57057057e+00, -1.56656657e+00, -1.56256256e+00,\n",
       "       -1.55855856e+00, -1.55455455e+00, -1.55055055e+00, -1.54654655e+00,\n",
       "       -1.54254254e+00, -1.53853854e+00, -1.53453453e+00, -1.53053053e+00,\n",
       "       -1.52652653e+00, -1.52252252e+00, -1.51851852e+00, -1.51451451e+00,\n",
       "       -1.51051051e+00, -1.50650651e+00, -1.50250250e+00, -1.49849850e+00,\n",
       "       -1.49449449e+00, -1.49049049e+00, -1.48648649e+00, -1.48248248e+00,\n",
       "       -1.47847848e+00, -1.47447447e+00, -1.47047047e+00, -1.46646647e+00,\n",
       "       -1.46246246e+00, -1.45845846e+00, -1.45445445e+00, -1.45045045e+00,\n",
       "       -1.44644645e+00, -1.44244244e+00, -1.43843844e+00, -1.43443443e+00,\n",
       "       -1.43043043e+00, -1.42642643e+00, -1.42242242e+00, -1.41841842e+00,\n",
       "       -1.41441441e+00, -1.41041041e+00, -1.40640641e+00, -1.40240240e+00,\n",
       "       -1.39839840e+00, -1.39439439e+00, -1.39039039e+00, -1.38638639e+00,\n",
       "       -1.38238238e+00, -1.37837838e+00, -1.37437437e+00, -1.37037037e+00,\n",
       "       -1.36636637e+00, -1.36236236e+00, -1.35835836e+00, -1.35435435e+00,\n",
       "       -1.35035035e+00, -1.34634635e+00, -1.34234234e+00, -1.33833834e+00,\n",
       "       -1.33433433e+00, -1.33033033e+00, -1.32632633e+00, -1.32232232e+00,\n",
       "       -1.31831832e+00, -1.31431431e+00, -1.31031031e+00, -1.30630631e+00,\n",
       "       -1.30230230e+00, -1.29829830e+00, -1.29429429e+00, -1.29029029e+00,\n",
       "       -1.28628629e+00, -1.28228228e+00, -1.27827828e+00, -1.27427427e+00,\n",
       "       -1.27027027e+00, -1.26626627e+00, -1.26226226e+00, -1.25825826e+00,\n",
       "       -1.25425425e+00, -1.25025025e+00, -1.24624625e+00, -1.24224224e+00,\n",
       "       -1.23823824e+00, -1.23423423e+00, -1.23023023e+00, -1.22622623e+00,\n",
       "       -1.22222222e+00, -1.21821822e+00, -1.21421421e+00, -1.21021021e+00,\n",
       "       -1.20620621e+00, -1.20220220e+00, -1.19819820e+00, -1.19419419e+00,\n",
       "       -1.19019019e+00, -1.18618619e+00, -1.18218218e+00, -1.17817818e+00,\n",
       "       -1.17417417e+00, -1.17017017e+00, -1.16616617e+00, -1.16216216e+00,\n",
       "       -1.15815816e+00, -1.15415415e+00, -1.15015015e+00, -1.14614615e+00,\n",
       "       -1.14214214e+00, -1.13813814e+00, -1.13413413e+00, -1.13013013e+00,\n",
       "       -1.12612613e+00, -1.12212212e+00, -1.11811812e+00, -1.11411411e+00,\n",
       "       -1.11011011e+00, -1.10610611e+00, -1.10210210e+00, -1.09809810e+00,\n",
       "       -1.09409409e+00, -1.09009009e+00, -1.08608609e+00, -1.08208208e+00,\n",
       "       -1.07807808e+00, -1.07407407e+00, -1.07007007e+00, -1.06606607e+00,\n",
       "       -1.06206206e+00, -1.05805806e+00, -1.05405405e+00, -1.05005005e+00,\n",
       "       -1.04604605e+00, -1.04204204e+00, -1.03803804e+00, -1.03403403e+00,\n",
       "       -1.03003003e+00, -1.02602603e+00, -1.02202202e+00, -1.01801802e+00,\n",
       "       -1.01401401e+00, -1.01001001e+00, -1.00600601e+00, -1.00200200e+00,\n",
       "       -9.97997998e-01, -9.93993994e-01, -9.89989990e-01, -9.85985986e-01,\n",
       "       -9.81981982e-01, -9.77977978e-01, -9.73973974e-01, -9.69969970e-01,\n",
       "       -9.65965966e-01, -9.61961962e-01, -9.57957958e-01, -9.53953954e-01,\n",
       "       -9.49949950e-01, -9.45945946e-01, -9.41941942e-01, -9.37937938e-01,\n",
       "       -9.33933934e-01, -9.29929930e-01, -9.25925926e-01, -9.21921922e-01,\n",
       "       -9.17917918e-01, -9.13913914e-01, -9.09909910e-01, -9.05905906e-01,\n",
       "       -9.01901902e-01, -8.97897898e-01, -8.93893894e-01, -8.89889890e-01,\n",
       "       -8.85885886e-01, -8.81881882e-01, -8.77877878e-01, -8.73873874e-01,\n",
       "       -8.69869870e-01, -8.65865866e-01, -8.61861862e-01, -8.57857858e-01,\n",
       "       -8.53853854e-01, -8.49849850e-01, -8.45845846e-01, -8.41841842e-01,\n",
       "       -8.37837838e-01, -8.33833834e-01, -8.29829830e-01, -8.25825826e-01,\n",
       "       -8.21821822e-01, -8.17817818e-01, -8.13813814e-01, -8.09809810e-01,\n",
       "       -8.05805806e-01, -8.01801802e-01, -7.97797798e-01, -7.93793794e-01,\n",
       "       -7.89789790e-01, -7.85785786e-01, -7.81781782e-01, -7.77777778e-01,\n",
       "       -7.73773774e-01, -7.69769770e-01, -7.65765766e-01, -7.61761762e-01,\n",
       "       -7.57757758e-01, -7.53753754e-01, -7.49749750e-01, -7.45745746e-01,\n",
       "       -7.41741742e-01, -7.37737738e-01, -7.33733734e-01, -7.29729730e-01,\n",
       "       -7.25725726e-01, -7.21721722e-01, -7.17717718e-01, -7.13713714e-01,\n",
       "       -7.09709710e-01, -7.05705706e-01, -7.01701702e-01, -6.97697698e-01,\n",
       "       -6.93693694e-01, -6.89689690e-01, -6.85685686e-01, -6.81681682e-01,\n",
       "       -6.77677678e-01, -6.73673674e-01, -6.69669670e-01, -6.65665666e-01,\n",
       "       -6.61661662e-01, -6.57657658e-01, -6.53653654e-01, -6.49649650e-01,\n",
       "       -6.45645646e-01, -6.41641642e-01, -6.37637638e-01, -6.33633634e-01,\n",
       "       -6.29629630e-01, -6.25625626e-01, -6.21621622e-01, -6.17617618e-01,\n",
       "       -6.13613614e-01, -6.09609610e-01, -6.05605606e-01, -6.01601602e-01,\n",
       "       -5.97597598e-01, -5.93593594e-01, -5.89589590e-01, -5.85585586e-01,\n",
       "       -5.81581582e-01, -5.77577578e-01, -5.73573574e-01, -5.69569570e-01,\n",
       "       -5.65565566e-01, -5.61561562e-01, -5.57557558e-01, -5.53553554e-01,\n",
       "       -5.49549550e-01, -5.45545546e-01, -5.41541542e-01, -5.37537538e-01,\n",
       "       -5.33533534e-01, -5.29529530e-01, -5.25525526e-01, -5.21521522e-01,\n",
       "       -5.17517518e-01, -5.13513514e-01, -5.09509510e-01, -5.05505506e-01,\n",
       "       -5.01501502e-01, -4.97497497e-01, -4.93493493e-01, -4.89489489e-01,\n",
       "       -4.85485485e-01, -4.81481481e-01, -4.77477477e-01, -4.73473473e-01,\n",
       "       -4.69469469e-01, -4.65465465e-01, -4.61461461e-01, -4.57457457e-01,\n",
       "       -4.53453453e-01, -4.49449449e-01, -4.45445445e-01, -4.41441441e-01,\n",
       "       -4.37437437e-01, -4.33433433e-01, -4.29429429e-01, -4.25425425e-01,\n",
       "       -4.21421421e-01, -4.17417417e-01, -4.13413413e-01, -4.09409409e-01,\n",
       "       -4.05405405e-01, -4.01401401e-01, -3.97397397e-01, -3.93393393e-01,\n",
       "       -3.89389389e-01, -3.85385385e-01, -3.81381381e-01, -3.77377377e-01,\n",
       "       -3.73373373e-01, -3.69369369e-01, -3.65365365e-01, -3.61361361e-01,\n",
       "       -3.57357357e-01, -3.53353353e-01, -3.49349349e-01, -3.45345345e-01,\n",
       "       -3.41341341e-01, -3.37337337e-01, -3.33333333e-01, -3.29329329e-01,\n",
       "       -3.25325325e-01, -3.21321321e-01, -3.17317317e-01, -3.13313313e-01,\n",
       "       -3.09309309e-01, -3.05305305e-01, -3.01301301e-01, -2.97297297e-01,\n",
       "       -2.93293293e-01, -2.89289289e-01, -2.85285285e-01, -2.81281281e-01,\n",
       "       -2.77277277e-01, -2.73273273e-01, -2.69269269e-01, -2.65265265e-01,\n",
       "       -2.61261261e-01, -2.57257257e-01, -2.53253253e-01, -2.49249249e-01,\n",
       "       -2.45245245e-01, -2.41241241e-01, -2.37237237e-01, -2.33233233e-01,\n",
       "       -2.29229229e-01, -2.25225225e-01, -2.21221221e-01, -2.17217217e-01,\n",
       "       -2.13213213e-01, -2.09209209e-01, -2.05205205e-01, -2.01201201e-01,\n",
       "       -1.97197197e-01, -1.93193193e-01, -1.89189189e-01, -1.85185185e-01,\n",
       "       -1.81181181e-01, -1.77177177e-01, -1.73173173e-01, -1.69169169e-01,\n",
       "       -1.65165165e-01, -1.61161161e-01, -1.57157157e-01, -1.53153153e-01,\n",
       "       -1.49149149e-01, -1.45145145e-01, -1.41141141e-01, -1.37137137e-01,\n",
       "       -1.33133133e-01, -1.29129129e-01, -1.25125125e-01, -1.21121121e-01,\n",
       "       -1.17117117e-01, -1.13113113e-01, -1.09109109e-01, -1.05105105e-01,\n",
       "       -1.01101101e-01, -9.70970971e-02, -9.30930931e-02, -8.90890891e-02,\n",
       "       -8.50850851e-02, -8.10810811e-02, -7.70770771e-02, -7.30730731e-02,\n",
       "       -6.90690691e-02, -6.50650651e-02, -6.10610611e-02, -5.70570571e-02,\n",
       "       -5.30530531e-02, -4.90490490e-02, -4.50450450e-02, -4.10410410e-02,\n",
       "       -3.70370370e-02, -3.30330330e-02, -2.90290290e-02, -2.50250250e-02,\n",
       "       -2.10210210e-02, -1.70170170e-02, -1.30130130e-02, -9.00900901e-03,\n",
       "       -5.00500501e-03, -1.00100100e-03,  3.00300300e-03,  7.00700701e-03,\n",
       "        1.10110110e-02,  1.50150150e-02,  1.90190190e-02,  2.30230230e-02,\n",
       "        2.70270270e-02,  3.10310310e-02,  3.50350350e-02,  3.90390390e-02,\n",
       "        4.30430430e-02,  4.70470470e-02,  5.10510511e-02,  5.50550551e-02,\n",
       "        5.90590591e-02,  6.30630631e-02,  6.70670671e-02,  7.10710711e-02,\n",
       "        7.50750751e-02,  7.90790791e-02,  8.30830831e-02,  8.70870871e-02,\n",
       "        9.10910911e-02,  9.50950951e-02,  9.90990991e-02,  1.03103103e-01,\n",
       "        1.07107107e-01,  1.11111111e-01,  1.15115115e-01,  1.19119119e-01,\n",
       "        1.23123123e-01,  1.27127127e-01,  1.31131131e-01,  1.35135135e-01,\n",
       "        1.39139139e-01,  1.43143143e-01,  1.47147147e-01,  1.51151151e-01,\n",
       "        1.55155155e-01,  1.59159159e-01,  1.63163163e-01,  1.67167167e-01,\n",
       "        1.71171171e-01,  1.75175175e-01,  1.79179179e-01,  1.83183183e-01,\n",
       "        1.87187187e-01,  1.91191191e-01,  1.95195195e-01,  1.99199199e-01,\n",
       "        2.03203203e-01,  2.07207207e-01,  2.11211211e-01,  2.15215215e-01,\n",
       "        2.19219219e-01,  2.23223223e-01,  2.27227227e-01,  2.31231231e-01,\n",
       "        2.35235235e-01,  2.39239239e-01,  2.43243243e-01,  2.47247247e-01,\n",
       "        2.51251251e-01,  2.55255255e-01,  2.59259259e-01,  2.63263263e-01,\n",
       "        2.67267267e-01,  2.71271271e-01,  2.75275275e-01,  2.79279279e-01,\n",
       "        2.83283283e-01,  2.87287287e-01,  2.91291291e-01,  2.95295295e-01,\n",
       "        2.99299299e-01,  3.03303303e-01,  3.07307307e-01,  3.11311311e-01,\n",
       "        3.15315315e-01,  3.19319319e-01,  3.23323323e-01,  3.27327327e-01,\n",
       "        3.31331331e-01,  3.35335335e-01,  3.39339339e-01,  3.43343343e-01,\n",
       "        3.47347347e-01,  3.51351351e-01,  3.55355355e-01,  3.59359359e-01,\n",
       "        3.63363363e-01,  3.67367367e-01,  3.71371371e-01,  3.75375375e-01,\n",
       "        3.79379379e-01,  3.83383383e-01,  3.87387387e-01,  3.91391391e-01,\n",
       "        3.95395395e-01,  3.99399399e-01,  4.03403403e-01,  4.07407407e-01,\n",
       "        4.11411411e-01,  4.15415415e-01,  4.19419419e-01,  4.23423423e-01,\n",
       "        4.27427427e-01,  4.31431431e-01,  4.35435435e-01,  4.39439439e-01,\n",
       "        4.43443443e-01,  4.47447447e-01,  4.51451451e-01,  4.55455455e-01,\n",
       "        4.59459459e-01,  4.63463463e-01,  4.67467467e-01,  4.71471471e-01,\n",
       "        4.75475475e-01,  4.79479479e-01,  4.83483483e-01,  4.87487487e-01,\n",
       "        4.91491491e-01,  4.95495495e-01,  4.99499499e-01,  5.03503504e-01,\n",
       "        5.07507508e-01,  5.11511512e-01,  5.15515516e-01,  5.19519520e-01,\n",
       "        5.23523524e-01,  5.27527528e-01,  5.31531532e-01,  5.35535536e-01,\n",
       "        5.39539540e-01,  5.43543544e-01,  5.47547548e-01,  5.51551552e-01,\n",
       "        5.55555556e-01,  5.59559560e-01,  5.63563564e-01,  5.67567568e-01,\n",
       "        5.71571572e-01,  5.75575576e-01,  5.79579580e-01,  5.83583584e-01,\n",
       "        5.87587588e-01,  5.91591592e-01,  5.95595596e-01,  5.99599600e-01,\n",
       "        6.03603604e-01,  6.07607608e-01,  6.11611612e-01,  6.15615616e-01,\n",
       "        6.19619620e-01,  6.23623624e-01,  6.27627628e-01,  6.31631632e-01,\n",
       "        6.35635636e-01,  6.39639640e-01,  6.43643644e-01,  6.47647648e-01,\n",
       "        6.51651652e-01,  6.55655656e-01,  6.59659660e-01,  6.63663664e-01,\n",
       "        6.67667668e-01,  6.71671672e-01,  6.75675676e-01,  6.79679680e-01,\n",
       "        6.83683684e-01,  6.87687688e-01,  6.91691692e-01,  6.95695696e-01,\n",
       "        6.99699700e-01,  7.03703704e-01,  7.07707708e-01,  7.11711712e-01,\n",
       "        7.15715716e-01,  7.19719720e-01,  7.23723724e-01,  7.27727728e-01,\n",
       "        7.31731732e-01,  7.35735736e-01,  7.39739740e-01,  7.43743744e-01,\n",
       "        7.47747748e-01,  7.51751752e-01,  7.55755756e-01,  7.59759760e-01,\n",
       "        7.63763764e-01,  7.67767768e-01,  7.71771772e-01,  7.75775776e-01,\n",
       "        7.79779780e-01,  7.83783784e-01,  7.87787788e-01,  7.91791792e-01,\n",
       "        7.95795796e-01,  7.99799800e-01,  8.03803804e-01,  8.07807808e-01,\n",
       "        8.11811812e-01,  8.15815816e-01,  8.19819820e-01,  8.23823824e-01,\n",
       "        8.27827828e-01,  8.31831832e-01,  8.35835836e-01,  8.39839840e-01,\n",
       "        8.43843844e-01,  8.47847848e-01,  8.51851852e-01,  8.55855856e-01,\n",
       "        8.59859860e-01,  8.63863864e-01,  8.67867868e-01,  8.71871872e-01,\n",
       "        8.75875876e-01,  8.79879880e-01,  8.83883884e-01,  8.87887888e-01,\n",
       "        8.91891892e-01,  8.95895896e-01,  8.99899900e-01,  9.03903904e-01,\n",
       "        9.07907908e-01,  9.11911912e-01,  9.15915916e-01,  9.19919920e-01,\n",
       "        9.23923924e-01,  9.27927928e-01,  9.31931932e-01,  9.35935936e-01,\n",
       "        9.39939940e-01,  9.43943944e-01,  9.47947948e-01,  9.51951952e-01,\n",
       "        9.55955956e-01,  9.59959960e-01,  9.63963964e-01,  9.67967968e-01,\n",
       "        9.71971972e-01,  9.75975976e-01,  9.79979980e-01,  9.83983984e-01,\n",
       "        9.87987988e-01,  9.91991992e-01,  9.95995996e-01,  1.00000000e+00])"
      ]
     },
     "execution_count": 27,
     "metadata": {},
     "output_type": "execute_result"
    }
   ],
   "source": [
    "chebysev_pol(x, 1.)"
   ]
  },
  {
   "cell_type": "markdown",
   "metadata": {},
   "source": [
    "### More Autograd"
   ]
  },
  {
   "cell_type": "code",
   "execution_count": 28,
   "metadata": {},
   "outputs": [],
   "source": [
    "f = lambda x, y: 3*x*y + 2*y - x"
   ]
  },
  {
   "cell_type": "code",
   "execution_count": 29,
   "metadata": {},
   "outputs": [],
   "source": [
    "dfdx = grad(f, argnum = 0)"
   ]
  },
  {
   "cell_type": "code",
   "execution_count": 30,
   "metadata": {},
   "outputs": [
    {
     "data": {
      "text/plain": [
       "2.0"
      ]
     },
     "execution_count": 30,
     "metadata": {},
     "output_type": "execute_result"
    }
   ],
   "source": [
    "dfdx(5., 1.)"
   ]
  },
  {
   "cell_type": "code",
   "execution_count": 31,
   "metadata": {},
   "outputs": [],
   "source": [
    "dfdy = grad(f, argnum = 1)"
   ]
  },
  {
   "cell_type": "code",
   "execution_count": 32,
   "metadata": {},
   "outputs": [
    {
     "data": {
      "text/plain": [
       "17.0"
      ]
     },
     "execution_count": 32,
     "metadata": {},
     "output_type": "execute_result"
    }
   ],
   "source": [
    "dfdy(5., 1.)"
   ]
  },
  {
   "cell_type": "code",
   "execution_count": 33,
   "metadata": {},
   "outputs": [],
   "source": [
    "grad_f = grad(f, argnum = [0, 1])"
   ]
  },
  {
   "cell_type": "code",
   "execution_count": 34,
   "metadata": {},
   "outputs": [
    {
     "data": {
      "text/plain": [
       "array([ 2., 17.])"
      ]
     },
     "execution_count": 34,
     "metadata": {},
     "output_type": "execute_result"
    }
   ],
   "source": [
    "anp.array(grad_f(5., 1.))"
   ]
  },
  {
   "cell_type": "code",
   "execution_count": 35,
   "metadata": {},
   "outputs": [],
   "source": [
    "from autograd import jacobian"
   ]
  },
  {
   "cell_type": "code",
   "execution_count": 36,
   "metadata": {},
   "outputs": [],
   "source": [
    "f = lambda x: anp.array([x[0]**2, x[0]+x[1]])"
   ]
  },
  {
   "cell_type": "code",
   "execution_count": 37,
   "metadata": {},
   "outputs": [],
   "source": [
    "f_jac = jacobian(f)"
   ]
  },
  {
   "cell_type": "code",
   "execution_count": 38,
   "metadata": {},
   "outputs": [
    {
     "data": {
      "text/plain": [
       "array([[2., 0.],\n",
       "       [1., 1.]])"
      ]
     },
     "execution_count": 38,
     "metadata": {},
     "output_type": "execute_result"
    }
   ],
   "source": [
    "f_jac(anp.array([1., 1.]))"
   ]
  }
 ],
 "metadata": {
  "kernelspec": {
   "display_name": "Python 3",
   "language": "python",
   "name": "python3"
  },
  "language_info": {
   "codemirror_mode": {
    "name": "ipython",
    "version": 3
   },
   "file_extension": ".py",
   "mimetype": "text/x-python",
   "name": "python",
   "nbconvert_exporter": "python",
   "pygments_lexer": "ipython3",
   "version": "3.7.4"
  }
 },
 "nbformat": 4,
 "nbformat_minor": 2
}
