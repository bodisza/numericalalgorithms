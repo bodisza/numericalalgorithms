{
 "cells": [
  {
   "cell_type": "code",
   "execution_count": 1,
   "metadata": {},
   "outputs": [],
   "source": [
    "import numpy as np\n",
    "from scipy import linalg as la"
   ]
  },
  {
   "cell_type": "code",
   "execution_count": 2,
   "metadata": {},
   "outputs": [],
   "source": [
    "points = np.random.uniform(-1, 1, (2, 2000))"
   ]
  },
  {
   "cell_type": "code",
   "execution_count": 3,
   "metadata": {},
   "outputs": [
    {
     "data": {
      "text/plain": [
       "array([[ 0.4324664 , -0.71518971,  0.77093954, ...,  0.35551768,\n",
       "        -0.99855736, -0.39120673],\n",
       "       [ 0.38063672, -0.86454305, -0.71433273, ..., -0.60312056,\n",
       "         0.8092171 ,  0.52420147]])"
      ]
     },
     "execution_count": 3,
     "metadata": {},
     "output_type": "execute_result"
    }
   ],
   "source": [
    "points"
   ]
  },
  {
   "cell_type": "code",
   "execution_count": 4,
   "metadata": {},
   "outputs": [],
   "source": [
    "lengths = la.norm(points, axis=0)"
   ]
  },
  {
   "cell_type": "code",
   "execution_count": 5,
   "metadata": {},
   "outputs": [],
   "source": [
    "num_within = np.count_nonzero(lengths < 1)"
   ]
  },
  {
   "cell_type": "code",
   "execution_count": 6,
   "metadata": {},
   "outputs": [
    {
     "data": {
      "text/plain": [
       "3.154"
      ]
     },
     "execution_count": 6,
     "metadata": {},
     "output_type": "execute_result"
    }
   ],
   "source": [
    "4 * (num_within/2000)"
   ]
  },
  {
   "cell_type": "markdown",
   "metadata": {},
   "source": [
    "### Calculating $\\pi$ with Monte Carlo simulation"
   ]
  },
  {
   "cell_type": "code",
   "execution_count": 7,
   "metadata": {},
   "outputs": [],
   "source": [
    "def multi_pi(n, *, N = 10_000):\n",
    "    \n",
    "    \"\"\" \n",
    "    This function estimates a multidimensional pi values given a dimension n and a drawing sample N\n",
    "    \"\"\"\n",
    "    \n",
    "    import numpy as np\n",
    "    from scipy import linalg as la\n",
    "    \n",
    "    points = np.random.uniform(-1, 1, (n, N))\n",
    "    \n",
    "    lengths = la.norm(points, axis=0)\n",
    "    num_within = np.count_nonzero(lengths < 1)\n",
    "    \n",
    "    # The volume of [-1, 1]x[-1, 1]x... = 2^n\n",
    "    \n",
    "    return np.power(2, n) * (num_within/N)"
   ]
  },
  {
   "cell_type": "code",
   "execution_count": 8,
   "metadata": {},
   "outputs": [
    {
     "data": {
      "text/plain": [
       "3.1296"
      ]
     },
     "execution_count": 8,
     "metadata": {},
     "output_type": "execute_result"
    }
   ],
   "source": [
    "multi_pi(2)"
   ]
  },
  {
   "cell_type": "code",
   "execution_count": 9,
   "metadata": {},
   "outputs": [
    {
     "data": {
      "text/plain": [
       "4.2896"
      ]
     },
     "execution_count": 9,
     "metadata": {},
     "output_type": "execute_result"
    }
   ],
   "source": [
    "multi_pi(3)"
   ]
  },
  {
   "cell_type": "code",
   "execution_count": 10,
   "metadata": {},
   "outputs": [
    {
     "data": {
      "text/plain": [
       "4.9552"
      ]
     },
     "execution_count": 10,
     "metadata": {},
     "output_type": "execute_result"
    }
   ],
   "source": [
    "multi_pi(4)"
   ]
  },
  {
   "cell_type": "markdown",
   "metadata": {},
   "source": [
    "### One dimensional Monte Carlo integration function"
   ]
  },
  {
   "cell_type": "markdown",
   "metadata": {},
   "source": [
    "The idea is that:\n",
    "\n",
    "$$ \\int_{a}^{b} f(x) dx = (b-a) f_{avg} \\approx V(\\Omega) \\frac{1}{N} \\sum_{i=1}^{N} f(x_i) $$"
   ]
  },
  {
   "cell_type": "code",
   "execution_count": 11,
   "metadata": {},
   "outputs": [],
   "source": [
    "def one_var_inetgration(f, a:float, b:float, *, N = 10_000):\n",
    "    \n",
    "    \"\"\"\n",
    "    This function integrates over a given interval [a, b] using a given function f\n",
    "    \"\"\"\n",
    "    \n",
    "    import numpy as np\n",
    "    from scipy import linalg as la\n",
    "    \n",
    "    if a > b:\n",
    "        a, b = b, a\n",
    "    else:\n",
    "        pass\n",
    "    \n",
    "    #The 'volume':\n",
    "    V = b - a\n",
    "    \n",
    "    #Generating random numbers on the interval N times:\n",
    "    points = np.random.uniform(a, b, (1, N))\n",
    "    \n",
    "    #Summing over the randomly generated function outputs:\n",
    "    s = np.sum(f(points))\n",
    "    summa = s/N\n",
    "    \n",
    "    return V * summa"
   ]
  },
  {
   "cell_type": "code",
   "execution_count": 12,
   "metadata": {},
   "outputs": [
    {
     "data": {
      "text/plain": [
       "24.119760027425812"
      ]
     },
     "execution_count": 12,
     "metadata": {},
     "output_type": "execute_result"
    }
   ],
   "source": [
    "f = lambda x: x**2\n",
    "one_var_inetgration(f, -4, 2)"
   ]
  },
  {
   "cell_type": "code",
   "execution_count": 13,
   "metadata": {},
   "outputs": [
    {
     "data": {
      "text/plain": [
       "0.006154191923415477"
      ]
     },
     "execution_count": 13,
     "metadata": {},
     "output_type": "execute_result"
    }
   ],
   "source": [
    "f = lambda x: np.sin(x)\n",
    "one_var_inetgration(f, -2*np.pi, 2*np.pi, N = 1_000_000)"
   ]
  },
  {
   "cell_type": "code",
   "execution_count": 14,
   "metadata": {},
   "outputs": [
    {
     "data": {
      "text/plain": [
       "2.3030734792743015"
      ]
     },
     "execution_count": 14,
     "metadata": {},
     "output_type": "execute_result"
    }
   ],
   "source": [
    "f = lambda x: 1/x\n",
    "one_var_inetgration(f, 1, 10, N = 1_000_000)"
   ]
  },
  {
   "cell_type": "code",
   "execution_count": 15,
   "metadata": {},
   "outputs": [
    {
     "data": {
      "text/plain": [
       "4.499377443160346"
      ]
     },
     "execution_count": 15,
     "metadata": {},
     "output_type": "execute_result"
    }
   ],
   "source": [
    "f = lambda x: np.abs(np.sin(10*x)*np.cos(10*x) + np.sqrt(x)*np.sin(3*x))\n",
    "one_var_inetgration(f, 1, 5, N = 1_000_000)"
   ]
  },
  {
   "cell_type": "markdown",
   "metadata": {},
   "source": [
    "### Multi dimensional Monte Carlo integration function"
   ]
  },
  {
   "cell_type": "code",
   "execution_count": 16,
   "metadata": {},
   "outputs": [],
   "source": [
    "def multi_var_inetgration(f, a:list, b:list, *, N = 10_000):\n",
    "    \n",
    "    \"\"\"\n",
    "    This function integrates over given intervals [a, b] using a given function f\n",
    "    \"\"\"\n",
    "    \n",
    "    import numpy as np\n",
    "    from scipy import linalg as la\n",
    "    \n",
    "    a, b = np.array(a), np.array(b)\n",
    "    \n",
    "    #The 'volume':\n",
    "    diff = b - a\n",
    "    V = np.prod(b - a)\n",
    "    \n",
    "    #Generating random numbers on n dimensions, on the given intervals N times:\n",
    "    n = len(a)\n",
    "    points = np.random.uniform(0, 1, (n, N))\n",
    "    \n",
    "    for j in range(n-1):\n",
    "        points[j] = points[j] * (b[j] - a[j]) + a[j]\n",
    "    \n",
    "    #Summing over the randomly generated function outputs:\n",
    "    \n",
    "    s = np.sum([f(*points[:, k]) for k in range(N)])\n",
    "    \n",
    "    summa = s/N\n",
    "    \n",
    "    return V * summa"
   ]
  },
  {
   "cell_type": "code",
   "execution_count": 17,
   "metadata": {},
   "outputs": [
    {
     "data": {
      "text/plain": [
       "0.6658375659659472"
      ]
     },
     "execution_count": 17,
     "metadata": {},
     "output_type": "execute_result"
    }
   ],
   "source": [
    "f = lambda x, y: x**2 + y**2\n",
    "multi_var_inetgration(f, [0, 0], [1, 1])"
   ]
  },
  {
   "cell_type": "code",
   "execution_count": 18,
   "metadata": {},
   "outputs": [
    {
     "data": {
      "text/plain": [
       "25.98009450911292"
      ]
     },
     "execution_count": 18,
     "metadata": {},
     "output_type": "execute_result"
    }
   ],
   "source": [
    "f = lambda x, y: 3*x - 4*y + y**2\n",
    "multi_var_inetgration(f, [1, -2], [3, 1], N = 1_000_000)"
   ]
  },
  {
   "cell_type": "code",
   "execution_count": 19,
   "metadata": {},
   "outputs": [
    {
     "data": {
      "text/plain": [
       "-0.7279777287480039"
      ]
     },
     "execution_count": 19,
     "metadata": {},
     "output_type": "execute_result"
    }
   ],
   "source": [
    "f = lambda x, y, w, z: x + y - w * z**2\n",
    "multi_var_inetgration(f, [-1, -2, -3, -4], [1, 2, 3, 4], N = 1_000_000)"
   ]
  },
  {
   "cell_type": "code",
   "execution_count": 20,
   "metadata": {},
   "outputs": [
    {
     "data": {
      "text/plain": [
       "0.14728390869590055"
      ]
     },
     "execution_count": 20,
     "metadata": {},
     "output_type": "execute_result"
    }
   ],
   "source": [
    "f = lambda x, y, z, w: 1/((2*np.pi)**2) * np.power(np.e, np.matmul(np.array([x, y, z, w]).T, np.array([x, y, z, w])))\n",
    "multi_var_inetgration(f, [-3/2, 0, 0, 0], [3/4, 1, 1/2, 1], N = 1_000_000)"
   ]
  },
  {
   "cell_type": "code",
   "execution_count": 21,
   "metadata": {},
   "outputs": [
    {
     "data": {
      "text/plain": [
       "0.015762404844861223"
      ]
     },
     "execution_count": 21,
     "metadata": {},
     "output_type": "execute_result"
    }
   ],
   "source": [
    "from scipy import stats\n",
    "# Define the bounds of integration.\n",
    "\n",
    "mins = np.array([-3/2, 0, 0, 0])\n",
    "maxs = np.array([3/4, 1, 1/2, 1])\n",
    "\n",
    "# The distribution has mean 0 and covariance I (the n x n identity).\n",
    "means, cov = np.zeros(4), np.eye(4)\n",
    "\n",
    "# Compute the integral with SciPy.\n",
    "stats.mvn.mvnun(mins, maxs, means, cov)[0]"
   ]
  }
 ],
 "metadata": {
  "kernelspec": {
   "display_name": "Python 3",
   "language": "python",
   "name": "python3"
  },
  "language_info": {
   "codemirror_mode": {
    "name": "ipython",
    "version": 3
   },
   "file_extension": ".py",
   "mimetype": "text/x-python",
   "name": "python",
   "nbconvert_exporter": "python",
   "pygments_lexer": "ipython3",
   "version": "3.7.4"
  }
 },
 "nbformat": 4,
 "nbformat_minor": 2
}
